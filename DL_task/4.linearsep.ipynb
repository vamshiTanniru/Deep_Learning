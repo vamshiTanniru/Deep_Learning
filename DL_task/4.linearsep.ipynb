{
  "nbformat": 4,
  "nbformat_minor": 0,
  "metadata": {
    "colab": {
      "provenance": []
    },
    "kernelspec": {
      "name": "python3",
      "display_name": "Python 3"
    },
    "language_info": {
      "name": "python"
    }
  },
  "cells": [
    {
      "cell_type": "code",
      "execution_count": 111,
      "metadata": {
        "id": "V_tkJcQ31DpC"
      },
      "outputs": [],
      "source": [
        "# Importing required libraries\n",
        "\n",
        "import pandas as pd\n",
        "import numpy as np\n",
        "import seaborn as sns\n",
        "import matplotlib.pyplot as plt"
      ]
    },
    {
      "cell_type": "code",
      "source": [
        "# Reading csv file to datframe\n",
        "\n",
        "df = pd.read_csv('/content/4.linearsep.csv',header=None)"
      ],
      "metadata": {
        "id": "sMdv4rhO1O1R"
      },
      "execution_count": 112,
      "outputs": []
    },
    {
      "cell_type": "code",
      "source": [
        "# Starting 5 data points\n",
        "df.head()"
      ],
      "metadata": {
        "colab": {
          "base_uri": "https://localhost:8080/",
          "height": 206
        },
        "id": "bDRSdetI2uQg",
        "outputId": "034efde0-c975-4781-ca56-9001381b8205"
      },
      "execution_count": 113,
      "outputs": [
        {
          "output_type": "execute_result",
          "data": {
            "text/plain": [
              "          0         1    2\n",
              "0 -0.177497  0.930496  1.0\n",
              "1  1.977424  1.766155  0.0\n",
              "2  1.800024  1.700343  0.0\n",
              "3 -0.770837  2.359163  1.0\n",
              "4 -0.308009  1.594063  1.0"
            ],
            "text/html": [
              "\n",
              "  <div id=\"df-6f002508-2643-4570-8e9a-57b4466b10bb\">\n",
              "    <div class=\"colab-df-container\">\n",
              "      <div>\n",
              "<style scoped>\n",
              "    .dataframe tbody tr th:only-of-type {\n",
              "        vertical-align: middle;\n",
              "    }\n",
              "\n",
              "    .dataframe tbody tr th {\n",
              "        vertical-align: top;\n",
              "    }\n",
              "\n",
              "    .dataframe thead th {\n",
              "        text-align: right;\n",
              "    }\n",
              "</style>\n",
              "<table border=\"1\" class=\"dataframe\">\n",
              "  <thead>\n",
              "    <tr style=\"text-align: right;\">\n",
              "      <th></th>\n",
              "      <th>0</th>\n",
              "      <th>1</th>\n",
              "      <th>2</th>\n",
              "    </tr>\n",
              "  </thead>\n",
              "  <tbody>\n",
              "    <tr>\n",
              "      <th>0</th>\n",
              "      <td>-0.177497</td>\n",
              "      <td>0.930496</td>\n",
              "      <td>1.0</td>\n",
              "    </tr>\n",
              "    <tr>\n",
              "      <th>1</th>\n",
              "      <td>1.977424</td>\n",
              "      <td>1.766155</td>\n",
              "      <td>0.0</td>\n",
              "    </tr>\n",
              "    <tr>\n",
              "      <th>2</th>\n",
              "      <td>1.800024</td>\n",
              "      <td>1.700343</td>\n",
              "      <td>0.0</td>\n",
              "    </tr>\n",
              "    <tr>\n",
              "      <th>3</th>\n",
              "      <td>-0.770837</td>\n",
              "      <td>2.359163</td>\n",
              "      <td>1.0</td>\n",
              "    </tr>\n",
              "    <tr>\n",
              "      <th>4</th>\n",
              "      <td>-0.308009</td>\n",
              "      <td>1.594063</td>\n",
              "      <td>1.0</td>\n",
              "    </tr>\n",
              "  </tbody>\n",
              "</table>\n",
              "</div>\n",
              "      <button class=\"colab-df-convert\" onclick=\"convertToInteractive('df-6f002508-2643-4570-8e9a-57b4466b10bb')\"\n",
              "              title=\"Convert this dataframe to an interactive table.\"\n",
              "              style=\"display:none;\">\n",
              "        \n",
              "  <svg xmlns=\"http://www.w3.org/2000/svg\" height=\"24px\"viewBox=\"0 0 24 24\"\n",
              "       width=\"24px\">\n",
              "    <path d=\"M0 0h24v24H0V0z\" fill=\"none\"/>\n",
              "    <path d=\"M18.56 5.44l.94 2.06.94-2.06 2.06-.94-2.06-.94-.94-2.06-.94 2.06-2.06.94zm-11 1L8.5 8.5l.94-2.06 2.06-.94-2.06-.94L8.5 2.5l-.94 2.06-2.06.94zm10 10l.94 2.06.94-2.06 2.06-.94-2.06-.94-.94-2.06-.94 2.06-2.06.94z\"/><path d=\"M17.41 7.96l-1.37-1.37c-.4-.4-.92-.59-1.43-.59-.52 0-1.04.2-1.43.59L10.3 9.45l-7.72 7.72c-.78.78-.78 2.05 0 2.83L4 21.41c.39.39.9.59 1.41.59.51 0 1.02-.2 1.41-.59l7.78-7.78 2.81-2.81c.8-.78.8-2.07 0-2.86zM5.41 20L4 18.59l7.72-7.72 1.47 1.35L5.41 20z\"/>\n",
              "  </svg>\n",
              "      </button>\n",
              "      \n",
              "  <style>\n",
              "    .colab-df-container {\n",
              "      display:flex;\n",
              "      flex-wrap:wrap;\n",
              "      gap: 12px;\n",
              "    }\n",
              "\n",
              "    .colab-df-convert {\n",
              "      background-color: #E8F0FE;\n",
              "      border: none;\n",
              "      border-radius: 50%;\n",
              "      cursor: pointer;\n",
              "      display: none;\n",
              "      fill: #1967D2;\n",
              "      height: 32px;\n",
              "      padding: 0 0 0 0;\n",
              "      width: 32px;\n",
              "    }\n",
              "\n",
              "    .colab-df-convert:hover {\n",
              "      background-color: #E2EBFA;\n",
              "      box-shadow: 0px 1px 2px rgba(60, 64, 67, 0.3), 0px 1px 3px 1px rgba(60, 64, 67, 0.15);\n",
              "      fill: #174EA6;\n",
              "    }\n",
              "\n",
              "    [theme=dark] .colab-df-convert {\n",
              "      background-color: #3B4455;\n",
              "      fill: #D2E3FC;\n",
              "    }\n",
              "\n",
              "    [theme=dark] .colab-df-convert:hover {\n",
              "      background-color: #434B5C;\n",
              "      box-shadow: 0px 1px 3px 1px rgba(0, 0, 0, 0.15);\n",
              "      filter: drop-shadow(0px 1px 2px rgba(0, 0, 0, 0.3));\n",
              "      fill: #FFFFFF;\n",
              "    }\n",
              "  </style>\n",
              "\n",
              "      <script>\n",
              "        const buttonEl =\n",
              "          document.querySelector('#df-6f002508-2643-4570-8e9a-57b4466b10bb button.colab-df-convert');\n",
              "        buttonEl.style.display =\n",
              "          google.colab.kernel.accessAllowed ? 'block' : 'none';\n",
              "\n",
              "        async function convertToInteractive(key) {\n",
              "          const element = document.querySelector('#df-6f002508-2643-4570-8e9a-57b4466b10bb');\n",
              "          const dataTable =\n",
              "            await google.colab.kernel.invokeFunction('convertToInteractive',\n",
              "                                                     [key], {});\n",
              "          if (!dataTable) return;\n",
              "\n",
              "          const docLinkHtml = 'Like what you see? Visit the ' +\n",
              "            '<a target=\"_blank\" href=https://colab.research.google.com/notebooks/data_table.ipynb>data table notebook</a>'\n",
              "            + ' to learn more about interactive tables.';\n",
              "          element.innerHTML = '';\n",
              "          dataTable['output_type'] = 'display_data';\n",
              "          await google.colab.output.renderOutput(dataTable, element);\n",
              "          const docLink = document.createElement('div');\n",
              "          docLink.innerHTML = docLinkHtml;\n",
              "          element.appendChild(docLink);\n",
              "        }\n",
              "      </script>\n",
              "    </div>\n",
              "  </div>\n",
              "  "
            ]
          },
          "metadata": {},
          "execution_count": 113
        }
      ]
    },
    {
      "cell_type": "code",
      "source": [
        "# Shape of dataframe\n",
        "df.shape"
      ],
      "metadata": {
        "colab": {
          "base_uri": "https://localhost:8080/"
        },
        "id": "C6h3K2SK72Zt",
        "outputId": "e7a21978-7a07-40a3-c9d3-e37f025c3cd8"
      },
      "execution_count": 114,
      "outputs": [
        {
          "output_type": "execute_result",
          "data": {
            "text/plain": [
              "(100, 3)"
            ]
          },
          "metadata": {},
          "execution_count": 114
        }
      ]
    },
    {
      "cell_type": "code",
      "source": [
        "df[[0,1]]"
      ],
      "metadata": {
        "id": "4WVnSYml229-",
        "colab": {
          "base_uri": "https://localhost:8080/",
          "height": 423
        },
        "outputId": "fe929114-66eb-4f43-b4ab-37029362c9a1"
      },
      "execution_count": 115,
      "outputs": [
        {
          "output_type": "execute_result",
          "data": {
            "text/plain": [
              "           0         1\n",
              "0  -0.177497  0.930496\n",
              "1   1.977424  1.766155\n",
              "2   1.800024  1.700343\n",
              "3  -0.770837  2.359163\n",
              "4  -0.308009  1.594063\n",
              "..       ...       ...\n",
              "95  2.632382  1.271305\n",
              "96 -0.040256  1.782708\n",
              "97 -0.787453  1.400357\n",
              "98  2.702441  1.587444\n",
              "99  1.290969  2.751937\n",
              "\n",
              "[100 rows x 2 columns]"
            ],
            "text/html": [
              "\n",
              "  <div id=\"df-0023422b-b6c5-400d-91ba-67423f64507c\">\n",
              "    <div class=\"colab-df-container\">\n",
              "      <div>\n",
              "<style scoped>\n",
              "    .dataframe tbody tr th:only-of-type {\n",
              "        vertical-align: middle;\n",
              "    }\n",
              "\n",
              "    .dataframe tbody tr th {\n",
              "        vertical-align: top;\n",
              "    }\n",
              "\n",
              "    .dataframe thead th {\n",
              "        text-align: right;\n",
              "    }\n",
              "</style>\n",
              "<table border=\"1\" class=\"dataframe\">\n",
              "  <thead>\n",
              "    <tr style=\"text-align: right;\">\n",
              "      <th></th>\n",
              "      <th>0</th>\n",
              "      <th>1</th>\n",
              "    </tr>\n",
              "  </thead>\n",
              "  <tbody>\n",
              "    <tr>\n",
              "      <th>0</th>\n",
              "      <td>-0.177497</td>\n",
              "      <td>0.930496</td>\n",
              "    </tr>\n",
              "    <tr>\n",
              "      <th>1</th>\n",
              "      <td>1.977424</td>\n",
              "      <td>1.766155</td>\n",
              "    </tr>\n",
              "    <tr>\n",
              "      <th>2</th>\n",
              "      <td>1.800024</td>\n",
              "      <td>1.700343</td>\n",
              "    </tr>\n",
              "    <tr>\n",
              "      <th>3</th>\n",
              "      <td>-0.770837</td>\n",
              "      <td>2.359163</td>\n",
              "    </tr>\n",
              "    <tr>\n",
              "      <th>4</th>\n",
              "      <td>-0.308009</td>\n",
              "      <td>1.594063</td>\n",
              "    </tr>\n",
              "    <tr>\n",
              "      <th>...</th>\n",
              "      <td>...</td>\n",
              "      <td>...</td>\n",
              "    </tr>\n",
              "    <tr>\n",
              "      <th>95</th>\n",
              "      <td>2.632382</td>\n",
              "      <td>1.271305</td>\n",
              "    </tr>\n",
              "    <tr>\n",
              "      <th>96</th>\n",
              "      <td>-0.040256</td>\n",
              "      <td>1.782708</td>\n",
              "    </tr>\n",
              "    <tr>\n",
              "      <th>97</th>\n",
              "      <td>-0.787453</td>\n",
              "      <td>1.400357</td>\n",
              "    </tr>\n",
              "    <tr>\n",
              "      <th>98</th>\n",
              "      <td>2.702441</td>\n",
              "      <td>1.587444</td>\n",
              "    </tr>\n",
              "    <tr>\n",
              "      <th>99</th>\n",
              "      <td>1.290969</td>\n",
              "      <td>2.751937</td>\n",
              "    </tr>\n",
              "  </tbody>\n",
              "</table>\n",
              "<p>100 rows × 2 columns</p>\n",
              "</div>\n",
              "      <button class=\"colab-df-convert\" onclick=\"convertToInteractive('df-0023422b-b6c5-400d-91ba-67423f64507c')\"\n",
              "              title=\"Convert this dataframe to an interactive table.\"\n",
              "              style=\"display:none;\">\n",
              "        \n",
              "  <svg xmlns=\"http://www.w3.org/2000/svg\" height=\"24px\"viewBox=\"0 0 24 24\"\n",
              "       width=\"24px\">\n",
              "    <path d=\"M0 0h24v24H0V0z\" fill=\"none\"/>\n",
              "    <path d=\"M18.56 5.44l.94 2.06.94-2.06 2.06-.94-2.06-.94-.94-2.06-.94 2.06-2.06.94zm-11 1L8.5 8.5l.94-2.06 2.06-.94-2.06-.94L8.5 2.5l-.94 2.06-2.06.94zm10 10l.94 2.06.94-2.06 2.06-.94-2.06-.94-.94-2.06-.94 2.06-2.06.94z\"/><path d=\"M17.41 7.96l-1.37-1.37c-.4-.4-.92-.59-1.43-.59-.52 0-1.04.2-1.43.59L10.3 9.45l-7.72 7.72c-.78.78-.78 2.05 0 2.83L4 21.41c.39.39.9.59 1.41.59.51 0 1.02-.2 1.41-.59l7.78-7.78 2.81-2.81c.8-.78.8-2.07 0-2.86zM5.41 20L4 18.59l7.72-7.72 1.47 1.35L5.41 20z\"/>\n",
              "  </svg>\n",
              "      </button>\n",
              "      \n",
              "  <style>\n",
              "    .colab-df-container {\n",
              "      display:flex;\n",
              "      flex-wrap:wrap;\n",
              "      gap: 12px;\n",
              "    }\n",
              "\n",
              "    .colab-df-convert {\n",
              "      background-color: #E8F0FE;\n",
              "      border: none;\n",
              "      border-radius: 50%;\n",
              "      cursor: pointer;\n",
              "      display: none;\n",
              "      fill: #1967D2;\n",
              "      height: 32px;\n",
              "      padding: 0 0 0 0;\n",
              "      width: 32px;\n",
              "    }\n",
              "\n",
              "    .colab-df-convert:hover {\n",
              "      background-color: #E2EBFA;\n",
              "      box-shadow: 0px 1px 2px rgba(60, 64, 67, 0.3), 0px 1px 3px 1px rgba(60, 64, 67, 0.15);\n",
              "      fill: #174EA6;\n",
              "    }\n",
              "\n",
              "    [theme=dark] .colab-df-convert {\n",
              "      background-color: #3B4455;\n",
              "      fill: #D2E3FC;\n",
              "    }\n",
              "\n",
              "    [theme=dark] .colab-df-convert:hover {\n",
              "      background-color: #434B5C;\n",
              "      box-shadow: 0px 1px 3px 1px rgba(0, 0, 0, 0.15);\n",
              "      filter: drop-shadow(0px 1px 2px rgba(0, 0, 0, 0.3));\n",
              "      fill: #FFFFFF;\n",
              "    }\n",
              "  </style>\n",
              "\n",
              "      <script>\n",
              "        const buttonEl =\n",
              "          document.querySelector('#df-0023422b-b6c5-400d-91ba-67423f64507c button.colab-df-convert');\n",
              "        buttonEl.style.display =\n",
              "          google.colab.kernel.accessAllowed ? 'block' : 'none';\n",
              "\n",
              "        async function convertToInteractive(key) {\n",
              "          const element = document.querySelector('#df-0023422b-b6c5-400d-91ba-67423f64507c');\n",
              "          const dataTable =\n",
              "            await google.colab.kernel.invokeFunction('convertToInteractive',\n",
              "                                                     [key], {});\n",
              "          if (!dataTable) return;\n",
              "\n",
              "          const docLinkHtml = 'Like what you see? Visit the ' +\n",
              "            '<a target=\"_blank\" href=https://colab.research.google.com/notebooks/data_table.ipynb>data table notebook</a>'\n",
              "            + ' to learn more about interactive tables.';\n",
              "          element.innerHTML = '';\n",
              "          dataTable['output_type'] = 'display_data';\n",
              "          await google.colab.output.renderOutput(dataTable, element);\n",
              "          const docLink = document.createElement('div');\n",
              "          docLink.innerHTML = docLinkHtml;\n",
              "          element.appendChild(docLink);\n",
              "        }\n",
              "      </script>\n",
              "    </div>\n",
              "  </div>\n",
              "  "
            ]
          },
          "metadata": {},
          "execution_count": 115
        }
      ]
    },
    {
      "cell_type": "code",
      "source": [
        "sns.scatterplot(x=df[0],y= df[1],hue=df[2]);"
      ],
      "metadata": {
        "id": "sfGlaJ8U7iuK",
        "colab": {
          "base_uri": "https://localhost:8080/",
          "height": 449
        },
        "outputId": "ba082843-3bef-445c-ec10-99ff43478aa2"
      },
      "execution_count": 116,
      "outputs": [
        {
          "output_type": "display_data",
          "data": {
            "text/plain": [
              "<Figure size 640x480 with 1 Axes>"
            ],
            "image/png": "[encoded data removed]"
          },
          "metadata": {}
        }
      ]
    },
    {
      "cell_type": "code",
      "source": [
        "from sklearn.model_selection import train_test_split\n",
        "x_train,x_test,y_train,y_test=train_test_split(df[[0,1]],df[2],test_size=0.1)"
      ],
      "metadata": {
        "id": "DNrbf8neMfOs"
      },
      "execution_count": 117,
      "outputs": []
    },
    {
      "cell_type": "code",
      "source": [
        "import tensorflow\n",
        "from tensorflow import keras\n",
        "from keras.models import Sequential\n",
        "from keras.layers import Dense,Dropout"
      ],
      "metadata": {
        "id": "y5dlkOmeNIu6"
      },
      "execution_count": 118,
      "outputs": []
    },
    {
      "cell_type": "code",
      "source": [
        "x_test.shape"
      ],
      "metadata": {
        "colab": {
          "base_uri": "https://localhost:8080/"
        },
        "id": "l9zDMqepN09J",
        "outputId": "08ec3506-b42b-4d13-90ff-a7f409c99e6d"
      },
      "execution_count": 119,
      "outputs": [
        {
          "output_type": "execute_result",
          "data": {
            "text/plain": [
              "(10, 2)"
            ]
          },
          "metadata": {},
          "execution_count": 119
        }
      ]
    },
    {
      "cell_type": "code",
      "source": [
        "from sklearn.preprocessing import StandardScaler\n",
        "std = StandardScaler()\n",
        "x_trainf = std.fit_transform(x_train)\n",
        "x_testf = std.transform(x_test)"
      ],
      "metadata": {
        "id": "LwsxbJ-tN-JW"
      },
      "execution_count": 120,
      "outputs": []
    },
    {
      "cell_type": "code",
      "source": [
        "model=Sequential()\n",
        "model.add(Dense(4,activation=\"tanh\",input_dim=2))\n",
        "\n",
        "# model.add(Dense(5,activation=\"tanh\"))\n",
        "\n",
        "# model.add(Dense(4,activation=\"tanh\"))\n",
        "\n",
        "# model.add(Dense(3,activation=\"tanh\"))\n",
        "\n",
        "model.add(Dense(2,activation=\"tanh\"))\n",
        "\n",
        "model.add(Dense(1,activation=\"sigmoid\"))"
      ],
      "metadata": {
        "id": "8UMlufwhOyom"
      },
      "execution_count": 122,
      "outputs": []
    },
    {
      "cell_type": "code",
      "source": [
        "model.get_weights()"
      ],
      "metadata": {
        "colab": {
          "base_uri": "https://localhost:8080/"
        },
        "id": "gW3M-LeFCuKu",
        "outputId": "034ae20f-8c5f-423c-8dcd-a62d80d13d85"
      },
      "execution_count": 123,
      "outputs": [
        {
          "output_type": "execute_result",
          "data": {
            "text/plain": [
              "[array([[-0.04349709,  0.30671525,  0.9463227 ,  0.454736  ],\n",
              "        [ 0.7446866 , -0.42290735,  0.48406792,  0.1345141 ]],\n",
              "       dtype=float32),\n",
              " array([0., 0., 0., 0.], dtype=float32),\n",
              " array([[-8.76251936e-01, -7.08649158e-02],\n",
              "        [ 1.71679020e-01,  1.04922056e-01],\n",
              "        [-9.01963711e-01,  6.97422028e-03],\n",
              "        [-8.50439072e-04, -6.90281391e-02]], dtype=float32),\n",
              " array([0., 0.], dtype=float32),\n",
              " array([[ 1.0376803 ],\n",
              "        [-0.64580196]], dtype=float32),\n",
              " array([0.], dtype=float32)]"
            ]
          },
          "metadata": {},
          "execution_count": 123
        }
      ]
    },
    {
      "cell_type": "code",
      "source": [
        "model.summary()"
      ],
      "metadata": {
        "colab": {
          "base_uri": "https://localhost:8080/"
        },
        "id": "MzLMrXpvO1Ya",
        "outputId": "556fe8a9-5112-4e1e-c2d2-4bfb079f92b2"
      },
      "execution_count": 124,
      "outputs": [
        {
          "output_type": "stream",
          "name": "stdout",
          "text": [
            "Model: \"sequential_6\"\n",
            "_________________________________________________________________\n",
            " Layer (type)                Output Shape              Param #   \n",
            "=================================================================\n",
            " dense_28 (Dense)            (None, 4)                 12        \n",
            "                                                                 \n",
            " dense_29 (Dense)            (None, 2)                 10        \n",
            "                                                                 \n",
            " dense_30 (Dense)            (None, 1)                 3         \n",
            "                                                                 \n",
            "=================================================================\n",
            "Total params: 25\n",
            "Trainable params: 25\n",
            "Non-trainable params: 0\n",
            "_________________________________________________________________\n"
          ]
        }
      ]
    },
    {
      "cell_type": "code",
      "source": [
        "model.compile(optimizer=\"Adam\",loss=\"binary_crossentropy\",metrics=[\"accuracy\"])"
      ],
      "metadata": {
        "id": "5yA9YE3oO5_3"
      },
      "execution_count": 125,
      "outputs": []
    },
    {
      "cell_type": "code",
      "source": [
        "history=model.fit(x_trainf,y_train,epochs=160,validation_split=0.2)"
      ],
      "metadata": {
        "colab": {
          "base_uri": "https://localhost:8080/"
        },
        "id": "yPIZ4wPsO-z2",
        "outputId": "d962666d-8fb4-4a9d-fd43-af26190d734a"
      },
      "execution_count": 137,
      "outputs": [
        {
          "output_type": "stream",
          "name": "stdout",
          "text": [
            "Epoch 1/160\n",
            "3/3 [==============================] - 0s 129ms/step - loss: 0.3794 - accuracy: 0.9028 - val_loss: 0.3862 - val_accuracy: 0.8889\n",
            "Epoch 2/160\n",
            "3/3 [==============================] - 0s 74ms/step - loss: 0.3760 - accuracy: 0.9167 - val_loss: 0.3830 - val_accuracy: 0.8889\n",
            "Epoch 3/160\n",
            "3/3 [==============================] - 0s 70ms/step - loss: 0.3727 - accuracy: 0.9167 - val_loss: 0.3794 - val_accuracy: 0.9444\n",
            "Epoch 4/160\n",
            "3/3 [==============================] - 0s 57ms/step - loss: 0.3691 - accuracy: 0.9167 - val_loss: 0.3760 - val_accuracy: 0.9444\n",
            "Epoch 5/160\n",
            "3/3 [==============================] - 0s 57ms/step - loss: 0.3657 - accuracy: 0.9306 - val_loss: 0.3727 - val_accuracy: 0.9444\n",
            "Epoch 6/160\n",
            "3/3 [==============================] - 0s 52ms/step - loss: 0.3623 - accuracy: 0.9306 - val_loss: 0.3694 - val_accuracy: 0.9444\n",
            "Epoch 7/160\n",
            "3/3 [==============================] - 0s 53ms/step - loss: 0.3588 - accuracy: 0.9444 - val_loss: 0.3663 - val_accuracy: 0.9444\n",
            "Epoch 8/160\n",
            "3/3 [==============================] - 0s 54ms/step - loss: 0.3555 - accuracy: 0.9444 - val_loss: 0.3633 - val_accuracy: 0.9444\n",
            "Epoch 9/160\n",
            "3/3 [==============================] - 0s 43ms/step - loss: 0.3521 - accuracy: 0.9444 - val_loss: 0.3605 - val_accuracy: 0.9444\n",
            "Epoch 10/160\n",
            "3/3 [==============================] - 0s 58ms/step - loss: 0.3488 - accuracy: 0.9444 - val_loss: 0.3580 - val_accuracy: 1.0000\n",
            "Epoch 11/160\n",
            "3/3 [==============================] - 0s 60ms/step - loss: 0.3456 - accuracy: 0.9444 - val_loss: 0.3555 - val_accuracy: 1.0000\n",
            "Epoch 12/160\n",
            "3/3 [==============================] - 0s 55ms/step - loss: 0.3423 - accuracy: 0.9444 - val_loss: 0.3529 - val_accuracy: 1.0000\n",
            "Epoch 13/160\n",
            "3/3 [==============================] - 0s 53ms/step - loss: 0.3390 - accuracy: 0.9444 - val_loss: 0.3504 - val_accuracy: 1.0000\n",
            "Epoch 14/160\n",
            "3/3 [==============================] - 0s 47ms/step - loss: 0.3358 - accuracy: 0.9444 - val_loss: 0.3477 - val_accuracy: 1.0000\n",
            "Epoch 15/160\n",
            "3/3 [==============================] - 0s 40ms/step - loss: 0.3326 - accuracy: 0.9444 - val_loss: 0.3449 - val_accuracy: 1.0000\n",
            "Epoch 16/160\n",
            "3/3 [==============================] - 0s 48ms/step - loss: 0.3296 - accuracy: 0.9444 - val_loss: 0.3422 - val_accuracy: 1.0000\n",
            "Epoch 17/160\n",
            "3/3 [==============================] - 0s 39ms/step - loss: 0.3264 - accuracy: 0.9444 - val_loss: 0.3394 - val_accuracy: 1.0000\n",
            "Epoch 18/160\n",
            "3/3 [==============================] - 0s 66ms/step - loss: 0.3233 - accuracy: 0.9444 - val_loss: 0.3365 - val_accuracy: 1.0000\n",
            "Epoch 19/160\n",
            "3/3 [==============================] - 0s 75ms/step - loss: 0.3203 - accuracy: 0.9444 - val_loss: 0.3336 - val_accuracy: 1.0000\n",
            "Epoch 20/160\n",
            "3/3 [==============================] - 0s 55ms/step - loss: 0.3172 - accuracy: 0.9444 - val_loss: 0.3309 - val_accuracy: 1.0000\n",
            "Epoch 21/160\n",
            "3/3 [==============================] - 0s 72ms/step - loss: 0.3142 - accuracy: 0.9444 - val_loss: 0.3282 - val_accuracy: 1.0000\n",
            "Epoch 22/160\n",
            "3/3 [==============================] - 0s 40ms/step - loss: 0.3114 - accuracy: 0.9444 - val_loss: 0.3256 - val_accuracy: 1.0000\n",
            "Epoch 23/160\n",
            "3/3 [==============================] - 0s 35ms/step - loss: 0.3085 - accuracy: 0.9444 - val_loss: 0.3231 - val_accuracy: 1.0000\n",
            "Epoch 24/160\n",
            "3/3 [==============================] - 0s 35ms/step - loss: 0.3058 - accuracy: 0.9444 - val_loss: 0.3206 - val_accuracy: 1.0000\n",
            "Epoch 25/160\n",
            "3/3 [==============================] - 0s 34ms/step - loss: 0.3031 - accuracy: 0.9444 - val_loss: 0.3183 - val_accuracy: 1.0000\n",
            "Epoch 26/160\n",
            "3/3 [==============================] - 0s 36ms/step - loss: 0.3003 - accuracy: 0.9444 - val_loss: 0.3162 - val_accuracy: 1.0000\n",
            "Epoch 27/160\n",
            "3/3 [==============================] - 0s 35ms/step - loss: 0.2976 - accuracy: 0.9444 - val_loss: 0.3139 - val_accuracy: 1.0000\n",
            "Epoch 28/160\n",
            "3/3 [==============================] - 0s 38ms/step - loss: 0.2949 - accuracy: 0.9444 - val_loss: 0.3118 - val_accuracy: 1.0000\n",
            "Epoch 29/160\n",
            "3/3 [==============================] - 0s 35ms/step - loss: 0.2923 - accuracy: 0.9444 - val_loss: 0.3098 - val_accuracy: 0.9444\n",
            "Epoch 30/160\n",
            "3/3 [==============================] - 0s 32ms/step - loss: 0.2896 - accuracy: 0.9444 - val_loss: 0.3076 - val_accuracy: 0.9444\n",
            "Epoch 31/160\n",
            "3/3 [==============================] - 0s 27ms/step - loss: 0.2870 - accuracy: 0.9444 - val_loss: 0.3055 - val_accuracy: 0.9444\n",
            "Epoch 32/160\n",
            "3/3 [==============================] - 0s 27ms/step - loss: 0.2845 - accuracy: 0.9444 - val_loss: 0.3037 - val_accuracy: 0.9444\n",
            "Epoch 33/160\n",
            "3/3 [==============================] - 0s 31ms/step - loss: 0.2819 - accuracy: 0.9444 - val_loss: 0.3019 - val_accuracy: 0.9444\n",
            "Epoch 34/160\n",
            "3/3 [==============================] - 0s 28ms/step - loss: 0.2794 - accuracy: 0.9444 - val_loss: 0.3002 - val_accuracy: 0.9444\n",
            "Epoch 35/160\n",
            "3/3 [==============================] - 0s 29ms/step - loss: 0.2769 - accuracy: 0.9444 - val_loss: 0.2986 - val_accuracy: 0.9444\n",
            "Epoch 36/160\n",
            "3/3 [==============================] - 0s 32ms/step - loss: 0.2745 - accuracy: 0.9444 - val_loss: 0.2968 - val_accuracy: 0.9444\n",
            "Epoch 37/160\n",
            "3/3 [==============================] - 0s 33ms/step - loss: 0.2719 - accuracy: 0.9444 - val_loss: 0.2950 - val_accuracy: 0.9444\n",
            "Epoch 38/160\n",
            "3/3 [==============================] - 0s 35ms/step - loss: 0.2695 - accuracy: 0.9583 - val_loss: 0.2932 - val_accuracy: 0.9444\n",
            "Epoch 39/160\n",
            "3/3 [==============================] - 0s 40ms/step - loss: 0.2671 - accuracy: 0.9583 - val_loss: 0.2919 - val_accuracy: 0.9444\n",
            "Epoch 40/160\n",
            "3/3 [==============================] - 0s 33ms/step - loss: 0.2648 - accuracy: 0.9583 - val_loss: 0.2906 - val_accuracy: 0.9444\n",
            "Epoch 41/160\n",
            "3/3 [==============================] - 0s 33ms/step - loss: 0.2623 - accuracy: 0.9583 - val_loss: 0.2892 - val_accuracy: 0.9444\n",
            "Epoch 42/160\n",
            "3/3 [==============================] - 0s 27ms/step - loss: 0.2601 - accuracy: 0.9583 - val_loss: 0.2879 - val_accuracy: 0.9444\n",
            "Epoch 43/160\n",
            "3/3 [==============================] - 0s 27ms/step - loss: 0.2576 - accuracy: 0.9583 - val_loss: 0.2865 - val_accuracy: 0.9444\n",
            "Epoch 44/160\n",
            "3/3 [==============================] - 0s 32ms/step - loss: 0.2555 - accuracy: 0.9583 - val_loss: 0.2853 - val_accuracy: 0.9444\n",
            "Epoch 45/160\n",
            "3/3 [==============================] - 0s 34ms/step - loss: 0.2533 - accuracy: 0.9583 - val_loss: 0.2840 - val_accuracy: 0.9444\n",
            "Epoch 46/160\n",
            "3/3 [==============================] - 0s 35ms/step - loss: 0.2510 - accuracy: 0.9583 - val_loss: 0.2827 - val_accuracy: 0.9444\n",
            "Epoch 47/160\n",
            "3/3 [==============================] - 0s 27ms/step - loss: 0.2489 - accuracy: 0.9583 - val_loss: 0.2812 - val_accuracy: 0.9444\n",
            "Epoch 48/160\n",
            "3/3 [==============================] - 0s 38ms/step - loss: 0.2468 - accuracy: 0.9583 - val_loss: 0.2798 - val_accuracy: 0.9444\n",
            "Epoch 49/160\n",
            "3/3 [==============================] - 0s 28ms/step - loss: 0.2447 - accuracy: 0.9583 - val_loss: 0.2784 - val_accuracy: 0.9444\n",
            "Epoch 50/160\n",
            "3/3 [==============================] - 0s 29ms/step - loss: 0.2427 - accuracy: 0.9583 - val_loss: 0.2769 - val_accuracy: 0.9444\n",
            "Epoch 51/160\n",
            "3/3 [==============================] - 0s 24ms/step - loss: 0.2407 - accuracy: 0.9583 - val_loss: 0.2757 - val_accuracy: 0.9444\n",
            "Epoch 52/160\n",
            "3/3 [==============================] - 0s 19ms/step - loss: 0.2388 - accuracy: 0.9583 - val_loss: 0.2748 - val_accuracy: 0.9444\n",
            "Epoch 53/160\n",
            "3/3 [==============================] - 0s 24ms/step - loss: 0.2368 - accuracy: 0.9583 - val_loss: 0.2740 - val_accuracy: 0.9444\n",
            "Epoch 54/160\n",
            "3/3 [==============================] - 0s 19ms/step - loss: 0.2348 - accuracy: 0.9583 - val_loss: 0.2732 - val_accuracy: 0.9444\n",
            "Epoch 55/160\n",
            "3/3 [==============================] - 0s 18ms/step - loss: 0.2330 - accuracy: 0.9583 - val_loss: 0.2722 - val_accuracy: 0.9444\n",
            "Epoch 56/160\n",
            "3/3 [==============================] - 0s 19ms/step - loss: 0.2311 - accuracy: 0.9583 - val_loss: 0.2710 - val_accuracy: 0.9444\n",
            "Epoch 57/160\n",
            "3/3 [==============================] - 0s 17ms/step - loss: 0.2293 - accuracy: 0.9722 - val_loss: 0.2700 - val_accuracy: 0.9444\n",
            "Epoch 58/160\n",
            "3/3 [==============================] - 0s 19ms/step - loss: 0.2275 - accuracy: 0.9722 - val_loss: 0.2689 - val_accuracy: 0.9444\n",
            "Epoch 59/160\n",
            "3/3 [==============================] - 0s 17ms/step - loss: 0.2257 - accuracy: 0.9722 - val_loss: 0.2679 - val_accuracy: 0.9444\n",
            "Epoch 60/160\n",
            "3/3 [==============================] - 0s 28ms/step - loss: 0.2240 - accuracy: 0.9722 - val_loss: 0.2668 - val_accuracy: 0.9444\n",
            "Epoch 61/160\n",
            "3/3 [==============================] - 0s 19ms/step - loss: 0.2224 - accuracy: 0.9722 - val_loss: 0.2657 - val_accuracy: 0.9444\n",
            "Epoch 62/160\n",
            "3/3 [==============================] - 0s 28ms/step - loss: 0.2207 - accuracy: 0.9722 - val_loss: 0.2649 - val_accuracy: 0.9444\n",
            "Epoch 63/160\n",
            "3/3 [==============================] - 0s 18ms/step - loss: 0.2190 - accuracy: 0.9722 - val_loss: 0.2643 - val_accuracy: 0.9444\n",
            "Epoch 64/160\n",
            "3/3 [==============================] - 0s 19ms/step - loss: 0.2173 - accuracy: 0.9722 - val_loss: 0.2638 - val_accuracy: 0.9444\n",
            "Epoch 65/160\n",
            "3/3 [==============================] - 0s 28ms/step - loss: 0.2157 - accuracy: 0.9722 - val_loss: 0.2634 - val_accuracy: 0.9444\n",
            "Epoch 66/160\n",
            "3/3 [==============================] - 0s 28ms/step - loss: 0.2140 - accuracy: 0.9722 - val_loss: 0.2627 - val_accuracy: 0.9444\n",
            "Epoch 67/160\n",
            "3/3 [==============================] - 0s 19ms/step - loss: 0.2125 - accuracy: 0.9722 - val_loss: 0.2622 - val_accuracy: 0.9444\n",
            "Epoch 68/160\n",
            "3/3 [==============================] - 0s 18ms/step - loss: 0.2109 - accuracy: 0.9722 - val_loss: 0.2614 - val_accuracy: 0.9444\n",
            "Epoch 69/160\n",
            "3/3 [==============================] - 0s 27ms/step - loss: 0.2094 - accuracy: 0.9722 - val_loss: 0.2605 - val_accuracy: 0.9444\n",
            "Epoch 70/160\n",
            "3/3 [==============================] - 0s 19ms/step - loss: 0.2078 - accuracy: 0.9722 - val_loss: 0.2597 - val_accuracy: 0.9444\n",
            "Epoch 71/160\n",
            "3/3 [==============================] - 0s 30ms/step - loss: 0.2063 - accuracy: 0.9722 - val_loss: 0.2590 - val_accuracy: 0.9444\n",
            "Epoch 72/160\n",
            "3/3 [==============================] - 0s 20ms/step - loss: 0.2049 - accuracy: 0.9722 - val_loss: 0.2583 - val_accuracy: 0.9444\n",
            "Epoch 73/160\n",
            "3/3 [==============================] - 0s 18ms/step - loss: 0.2034 - accuracy: 0.9722 - val_loss: 0.2575 - val_accuracy: 0.9444\n",
            "Epoch 74/160\n",
            "3/3 [==============================] - 0s 19ms/step - loss: 0.2020 - accuracy: 0.9722 - val_loss: 0.2569 - val_accuracy: 0.9444\n",
            "Epoch 75/160\n",
            "3/3 [==============================] - 0s 18ms/step - loss: 0.2006 - accuracy: 0.9722 - val_loss: 0.2565 - val_accuracy: 0.9444\n",
            "Epoch 76/160\n",
            "3/3 [==============================] - 0s 19ms/step - loss: 0.1992 - accuracy: 0.9722 - val_loss: 0.2559 - val_accuracy: 0.9444\n",
            "Epoch 77/160\n",
            "3/3 [==============================] - 0s 18ms/step - loss: 0.1978 - accuracy: 0.9722 - val_loss: 0.2554 - val_accuracy: 0.9444\n",
            "Epoch 78/160\n",
            "3/3 [==============================] - 0s 20ms/step - loss: 0.1965 - accuracy: 0.9722 - val_loss: 0.2550 - val_accuracy: 0.9444\n",
            "Epoch 79/160\n",
            "3/3 [==============================] - 0s 18ms/step - loss: 0.1951 - accuracy: 0.9722 - val_loss: 0.2545 - val_accuracy: 0.9444\n",
            "Epoch 80/160\n",
            "3/3 [==============================] - 0s 18ms/step - loss: 0.1938 - accuracy: 0.9722 - val_loss: 0.2539 - val_accuracy: 0.9444\n",
            "Epoch 81/160\n",
            "3/3 [==============================] - 0s 17ms/step - loss: 0.1925 - accuracy: 0.9722 - val_loss: 0.2533 - val_accuracy: 0.9444\n",
            "Epoch 82/160\n",
            "3/3 [==============================] - 0s 19ms/step - loss: 0.1913 - accuracy: 0.9722 - val_loss: 0.2527 - val_accuracy: 0.9444\n",
            "Epoch 83/160\n",
            "3/3 [==============================] - 0s 18ms/step - loss: 0.1900 - accuracy: 0.9722 - val_loss: 0.2520 - val_accuracy: 0.9444\n",
            "Epoch 84/160\n",
            "3/3 [==============================] - 0s 20ms/step - loss: 0.1888 - accuracy: 0.9722 - val_loss: 0.2515 - val_accuracy: 0.9444\n",
            "Epoch 85/160\n",
            "3/3 [==============================] - 0s 18ms/step - loss: 0.1876 - accuracy: 0.9722 - val_loss: 0.2511 - val_accuracy: 0.9444\n",
            "Epoch 86/160\n",
            "3/3 [==============================] - 0s 20ms/step - loss: 0.1863 - accuracy: 0.9722 - val_loss: 0.2509 - val_accuracy: 0.9444\n",
            "Epoch 87/160\n",
            "3/3 [==============================] - 0s 18ms/step - loss: 0.1851 - accuracy: 0.9722 - val_loss: 0.2509 - val_accuracy: 0.9444\n",
            "Epoch 88/160\n",
            "3/3 [==============================] - 0s 18ms/step - loss: 0.1840 - accuracy: 0.9722 - val_loss: 0.2508 - val_accuracy: 0.9444\n",
            "Epoch 89/160\n",
            "3/3 [==============================] - 0s 22ms/step - loss: 0.1827 - accuracy: 0.9722 - val_loss: 0.2505 - val_accuracy: 0.9444\n",
            "Epoch 90/160\n",
            "3/3 [==============================] - 0s 27ms/step - loss: 0.1816 - accuracy: 0.9722 - val_loss: 0.2502 - val_accuracy: 0.9444\n",
            "Epoch 91/160\n",
            "3/3 [==============================] - 0s 28ms/step - loss: 0.1805 - accuracy: 0.9722 - val_loss: 0.2500 - val_accuracy: 0.9444\n",
            "Epoch 92/160\n",
            "3/3 [==============================] - 0s 17ms/step - loss: 0.1792 - accuracy: 0.9722 - val_loss: 0.2496 - val_accuracy: 0.9444\n",
            "Epoch 93/160\n",
            "3/3 [==============================] - 0s 19ms/step - loss: 0.1781 - accuracy: 0.9722 - val_loss: 0.2493 - val_accuracy: 0.9444\n",
            "Epoch 94/160\n",
            "3/3 [==============================] - 0s 27ms/step - loss: 0.1770 - accuracy: 0.9722 - val_loss: 0.2490 - val_accuracy: 0.9444\n",
            "Epoch 95/160\n",
            "3/3 [==============================] - 0s 19ms/step - loss: 0.1760 - accuracy: 0.9722 - val_loss: 0.2485 - val_accuracy: 0.9444\n",
            "Epoch 96/160\n",
            "3/3 [==============================] - 0s 18ms/step - loss: 0.1749 - accuracy: 0.9722 - val_loss: 0.2481 - val_accuracy: 0.9444\n",
            "Epoch 97/160\n",
            "3/3 [==============================] - 0s 18ms/step - loss: 0.1738 - accuracy: 0.9722 - val_loss: 0.2477 - val_accuracy: 0.9444\n",
            "Epoch 98/160\n",
            "3/3 [==============================] - 0s 19ms/step - loss: 0.1728 - accuracy: 0.9722 - val_loss: 0.2473 - val_accuracy: 0.9444\n",
            "Epoch 99/160\n",
            "3/3 [==============================] - 0s 19ms/step - loss: 0.1718 - accuracy: 0.9722 - val_loss: 0.2470 - val_accuracy: 0.9444\n",
            "Epoch 100/160\n",
            "3/3 [==============================] - 0s 28ms/step - loss: 0.1708 - accuracy: 0.9722 - val_loss: 0.2466 - val_accuracy: 0.9444\n",
            "Epoch 101/160\n",
            "3/3 [==============================] - 0s 18ms/step - loss: 0.1698 - accuracy: 0.9722 - val_loss: 0.2462 - val_accuracy: 0.9444\n",
            "Epoch 102/160\n",
            "3/3 [==============================] - 0s 18ms/step - loss: 0.1689 - accuracy: 0.9722 - val_loss: 0.2458 - val_accuracy: 0.9444\n",
            "Epoch 103/160\n",
            "3/3 [==============================] - 0s 18ms/step - loss: 0.1679 - accuracy: 0.9722 - val_loss: 0.2454 - val_accuracy: 0.9444\n",
            "Epoch 104/160\n",
            "3/3 [==============================] - 0s 18ms/step - loss: 0.1670 - accuracy: 0.9722 - val_loss: 0.2450 - val_accuracy: 0.9444\n",
            "Epoch 105/160\n",
            "3/3 [==============================] - 0s 18ms/step - loss: 0.1660 - accuracy: 0.9722 - val_loss: 0.2448 - val_accuracy: 0.9444\n",
            "Epoch 106/160\n",
            "3/3 [==============================] - 0s 26ms/step - loss: 0.1651 - accuracy: 0.9722 - val_loss: 0.2447 - val_accuracy: 0.9444\n",
            "Epoch 107/160\n",
            "3/3 [==============================] - 0s 18ms/step - loss: 0.1641 - accuracy: 0.9722 - val_loss: 0.2446 - val_accuracy: 0.9444\n",
            "Epoch 108/160\n",
            "3/3 [==============================] - 0s 27ms/step - loss: 0.1632 - accuracy: 0.9722 - val_loss: 0.2449 - val_accuracy: 0.9444\n",
            "Epoch 109/160\n",
            "3/3 [==============================] - 0s 27ms/step - loss: 0.1623 - accuracy: 0.9722 - val_loss: 0.2450 - val_accuracy: 0.9444\n",
            "Epoch 110/160\n",
            "3/3 [==============================] - 0s 22ms/step - loss: 0.1613 - accuracy: 0.9722 - val_loss: 0.2449 - val_accuracy: 0.9444\n",
            "Epoch 111/160\n",
            "3/3 [==============================] - 0s 19ms/step - loss: 0.1605 - accuracy: 0.9722 - val_loss: 0.2448 - val_accuracy: 0.9444\n",
            "Epoch 112/160\n",
            "3/3 [==============================] - 0s 29ms/step - loss: 0.1596 - accuracy: 0.9722 - val_loss: 0.2446 - val_accuracy: 0.9444\n",
            "Epoch 113/160\n",
            "3/3 [==============================] - 0s 18ms/step - loss: 0.1587 - accuracy: 0.9722 - val_loss: 0.2444 - val_accuracy: 0.9444\n",
            "Epoch 114/160\n",
            "3/3 [==============================] - 0s 20ms/step - loss: 0.1579 - accuracy: 0.9722 - val_loss: 0.2442 - val_accuracy: 0.9444\n",
            "Epoch 115/160\n",
            "3/3 [==============================] - 0s 27ms/step - loss: 0.1571 - accuracy: 0.9722 - val_loss: 0.2440 - val_accuracy: 0.9444\n",
            "Epoch 116/160\n",
            "3/3 [==============================] - 0s 18ms/step - loss: 0.1563 - accuracy: 0.9722 - val_loss: 0.2438 - val_accuracy: 0.9444\n",
            "Epoch 117/160\n",
            "3/3 [==============================] - 0s 18ms/step - loss: 0.1555 - accuracy: 0.9722 - val_loss: 0.2436 - val_accuracy: 0.9444\n",
            "Epoch 118/160\n",
            "3/3 [==============================] - 0s 18ms/step - loss: 0.1547 - accuracy: 0.9722 - val_loss: 0.2432 - val_accuracy: 0.9444\n",
            "Epoch 119/160\n",
            "3/3 [==============================] - 0s 18ms/step - loss: 0.1539 - accuracy: 0.9722 - val_loss: 0.2429 - val_accuracy: 0.9444\n",
            "Epoch 120/160\n",
            "3/3 [==============================] - 0s 19ms/step - loss: 0.1531 - accuracy: 0.9722 - val_loss: 0.2428 - val_accuracy: 0.9444\n",
            "Epoch 121/160\n",
            "3/3 [==============================] - 0s 18ms/step - loss: 0.1523 - accuracy: 0.9722 - val_loss: 0.2428 - val_accuracy: 0.9444\n",
            "Epoch 122/160\n",
            "3/3 [==============================] - 0s 18ms/step - loss: 0.1515 - accuracy: 0.9722 - val_loss: 0.2426 - val_accuracy: 0.9444\n",
            "Epoch 123/160\n",
            "3/3 [==============================] - 0s 31ms/step - loss: 0.1507 - accuracy: 0.9722 - val_loss: 0.2425 - val_accuracy: 0.9444\n",
            "Epoch 124/160\n",
            "3/3 [==============================] - 0s 18ms/step - loss: 0.1500 - accuracy: 0.9722 - val_loss: 0.2424 - val_accuracy: 0.9444\n",
            "Epoch 125/160\n",
            "3/3 [==============================] - 0s 27ms/step - loss: 0.1493 - accuracy: 0.9722 - val_loss: 0.2422 - val_accuracy: 0.9444\n",
            "Epoch 126/160\n",
            "3/3 [==============================] - 0s 19ms/step - loss: 0.1486 - accuracy: 0.9722 - val_loss: 0.2420 - val_accuracy: 0.9444\n",
            "Epoch 127/160\n",
            "3/3 [==============================] - 0s 22ms/step - loss: 0.1479 - accuracy: 0.9722 - val_loss: 0.2421 - val_accuracy: 0.9444\n",
            "Epoch 128/160\n",
            "3/3 [==============================] - 0s 22ms/step - loss: 0.1472 - accuracy: 0.9722 - val_loss: 0.2420 - val_accuracy: 0.9444\n",
            "Epoch 129/160\n",
            "3/3 [==============================] - 0s 21ms/step - loss: 0.1465 - accuracy: 0.9722 - val_loss: 0.2419 - val_accuracy: 0.9444\n",
            "Epoch 130/160\n",
            "3/3 [==============================] - 0s 18ms/step - loss: 0.1458 - accuracy: 0.9722 - val_loss: 0.2419 - val_accuracy: 0.9444\n",
            "Epoch 131/160\n",
            "3/3 [==============================] - 0s 20ms/step - loss: 0.1451 - accuracy: 0.9722 - val_loss: 0.2417 - val_accuracy: 0.9444\n",
            "Epoch 132/160\n",
            "3/3 [==============================] - 0s 26ms/step - loss: 0.1445 - accuracy: 0.9722 - val_loss: 0.2415 - val_accuracy: 0.9444\n",
            "Epoch 133/160\n",
            "3/3 [==============================] - 0s 19ms/step - loss: 0.1438 - accuracy: 0.9722 - val_loss: 0.2413 - val_accuracy: 0.9444\n",
            "Epoch 134/160\n",
            "3/3 [==============================] - 0s 18ms/step - loss: 0.1431 - accuracy: 0.9722 - val_loss: 0.2409 - val_accuracy: 0.9444\n",
            "Epoch 135/160\n",
            "3/3 [==============================] - 0s 18ms/step - loss: 0.1425 - accuracy: 0.9722 - val_loss: 0.2405 - val_accuracy: 0.9444\n",
            "Epoch 136/160\n",
            "3/3 [==============================] - 0s 19ms/step - loss: 0.1419 - accuracy: 0.9722 - val_loss: 0.2403 - val_accuracy: 0.9444\n",
            "Epoch 137/160\n",
            "3/3 [==============================] - 0s 21ms/step - loss: 0.1412 - accuracy: 0.9722 - val_loss: 0.2403 - val_accuracy: 0.9444\n",
            "Epoch 138/160\n",
            "3/3 [==============================] - 0s 19ms/step - loss: 0.1406 - accuracy: 0.9722 - val_loss: 0.2402 - val_accuracy: 0.9444\n",
            "Epoch 139/160\n",
            "3/3 [==============================] - 0s 20ms/step - loss: 0.1400 - accuracy: 0.9722 - val_loss: 0.2403 - val_accuracy: 0.9444\n",
            "Epoch 140/160\n",
            "3/3 [==============================] - 0s 20ms/step - loss: 0.1393 - accuracy: 0.9722 - val_loss: 0.2403 - val_accuracy: 0.9444\n",
            "Epoch 141/160\n",
            "3/3 [==============================] - 0s 19ms/step - loss: 0.1387 - accuracy: 0.9722 - val_loss: 0.2405 - val_accuracy: 0.9444\n",
            "Epoch 142/160\n",
            "3/3 [==============================] - 0s 19ms/step - loss: 0.1381 - accuracy: 0.9722 - val_loss: 0.2405 - val_accuracy: 0.9444\n",
            "Epoch 143/160\n",
            "3/3 [==============================] - 0s 18ms/step - loss: 0.1375 - accuracy: 0.9722 - val_loss: 0.2406 - val_accuracy: 0.9444\n",
            "Epoch 144/160\n",
            "3/3 [==============================] - 0s 19ms/step - loss: 0.1369 - accuracy: 0.9722 - val_loss: 0.2406 - val_accuracy: 0.9444\n",
            "Epoch 145/160\n",
            "3/3 [==============================] - 0s 19ms/step - loss: 0.1364 - accuracy: 0.9861 - val_loss: 0.2407 - val_accuracy: 0.9444\n",
            "Epoch 146/160\n",
            "3/3 [==============================] - 0s 20ms/step - loss: 0.1358 - accuracy: 0.9861 - val_loss: 0.2406 - val_accuracy: 0.9444\n",
            "Epoch 147/160\n",
            "3/3 [==============================] - 0s 28ms/step - loss: 0.1352 - accuracy: 0.9861 - val_loss: 0.2407 - val_accuracy: 0.9444\n",
            "Epoch 148/160\n",
            "3/3 [==============================] - 0s 22ms/step - loss: 0.1346 - accuracy: 0.9861 - val_loss: 0.2408 - val_accuracy: 0.9444\n",
            "Epoch 149/160\n",
            "3/3 [==============================] - 0s 18ms/step - loss: 0.1341 - accuracy: 0.9861 - val_loss: 0.2410 - val_accuracy: 0.9444\n",
            "Epoch 150/160\n",
            "3/3 [==============================] - 0s 20ms/step - loss: 0.1335 - accuracy: 0.9861 - val_loss: 0.2409 - val_accuracy: 0.9444\n",
            "Epoch 151/160\n",
            "3/3 [==============================] - 0s 19ms/step - loss: 0.1330 - accuracy: 0.9861 - val_loss: 0.2409 - val_accuracy: 0.9444\n",
            "Epoch 152/160\n",
            "3/3 [==============================] - 0s 19ms/step - loss: 0.1324 - accuracy: 0.9861 - val_loss: 0.2413 - val_accuracy: 0.9444\n",
            "Epoch 153/160\n",
            "3/3 [==============================] - 0s 18ms/step - loss: 0.1319 - accuracy: 0.9861 - val_loss: 0.2419 - val_accuracy: 0.9444\n",
            "Epoch 154/160\n",
            "3/3 [==============================] - 0s 30ms/step - loss: 0.1315 - accuracy: 0.9861 - val_loss: 0.2422 - val_accuracy: 0.9444\n",
            "Epoch 155/160\n",
            "3/3 [==============================] - 0s 18ms/step - loss: 0.1309 - accuracy: 0.9861 - val_loss: 0.2422 - val_accuracy: 0.9444\n",
            "Epoch 156/160\n",
            "3/3 [==============================] - 0s 27ms/step - loss: 0.1304 - accuracy: 0.9861 - val_loss: 0.2422 - val_accuracy: 0.9444\n",
            "Epoch 157/160\n",
            "3/3 [==============================] - 0s 19ms/step - loss: 0.1298 - accuracy: 0.9861 - val_loss: 0.2424 - val_accuracy: 0.9444\n",
            "Epoch 158/160\n",
            "3/3 [==============================] - 0s 20ms/step - loss: 0.1293 - accuracy: 0.9861 - val_loss: 0.2428 - val_accuracy: 0.9444\n",
            "Epoch 159/160\n",
            "3/3 [==============================] - 0s 19ms/step - loss: 0.1288 - accuracy: 0.9861 - val_loss: 0.2431 - val_accuracy: 0.9444\n",
            "Epoch 160/160\n",
            "3/3 [==============================] - 0s 18ms/step - loss: 0.1283 - accuracy: 0.9861 - val_loss: 0.2436 - val_accuracy: 0.9444\n"
          ]
        }
      ]
    },
    {
      "cell_type": "code",
      "source": [
        "y_cap=model.predict(x_testf)"
      ],
      "metadata": {
        "colab": {
          "base_uri": "https://localhost:8080/"
        },
        "id": "3Sk2f4wtPA75",
        "outputId": "6855054d-1119-4189-8c9c-2ed2ee2bca6a"
      },
      "execution_count": 138,
      "outputs": [
        {
          "output_type": "stream",
          "name": "stdout",
          "text": [
            "1/1 [==============================] - 0s 26ms/step\n"
          ]
        }
      ]
    },
    {
      "cell_type": "code",
      "source": [
        "y_capf=np.where(y_cap>0.5,1,0)"
      ],
      "metadata": {
        "id": "hqejF9VJPGW6"
      },
      "execution_count": 139,
      "outputs": []
    },
    {
      "cell_type": "code",
      "source": [
        "from sklearn.metrics import accuracy_score\n",
        "accuracy_score(y_test,y_capf)"
      ],
      "metadata": {
        "colab": {
          "base_uri": "https://localhost:8080/"
        },
        "id": "k3PW6JQGPJ2W",
        "outputId": "59e6e626-9b6b-4b91-e776-b06624431cb1"
      },
      "execution_count": 140,
      "outputs": [
        {
          "output_type": "execute_result",
          "data": {
            "text/plain": [
              "0.8"
            ]
          },
          "metadata": {},
          "execution_count": 140
        }
      ]
    },
    {
      "cell_type": "code",
      "source": [
        "plt.plot(history.history[\"loss\"])\n",
        "plt.plot(history.history[\"val_loss\"])"
      ],
      "metadata": {
        "colab": {
          "base_uri": "https://localhost:8080/",
          "height": 447
        },
        "id": "wcyx05R0PL4k",
        "outputId": "0fca12ec-7b06-47e1-a587-44a1ec682d65"
      },
      "execution_count": 141,
      "outputs": [
        {
          "output_type": "execute_result",
          "data": {
            "text/plain": [
              "[<matplotlib.lines.Line2D at 0x7f0d2b982f80>]"
            ]
          },
          "metadata": {},
          "execution_count": 141
        },
        {
          "output_type": "display_data",
          "data": {
            "text/plain": [
              "<Figure size 640x480 with 1 Axes>"
            ],
            "image/png": "[encoded data removed]"
          },
          "metadata": {}
        }
      ]
    },
    {
      "cell_type": "code",
      "source": [
        "from mlxtend.plotting import plot_decision_regions"
      ],
      "metadata": {
        "id": "bs05LPuoPOxN"
      },
      "execution_count": 142,
      "outputs": []
    },
    {
      "cell_type": "code",
      "source": [
        "plot_decision_regions(x_trainf,y_train.values.astype(int),clf=model);"
      ],
      "metadata": {
        "colab": {
          "base_uri": "https://localhost:8080/",
          "height": 447
        },
        "id": "Kr4Ld40wPTPO",
        "outputId": "84599179-cf3c-4047-bd30-c841400d3c24"
      },
      "execution_count": 143,
      "outputs": [
        {
          "output_type": "stream",
          "name": "stdout",
          "text": [
            "9600/9600 [==============================] - 14s 2ms/step\n"
          ]
        },
        {
          "output_type": "display_data",
          "data": {
            "text/plain": [
              "<Figure size 640x480 with 1 Axes>"
            ],
            "image/png": "[encoded data removed]"
          },
          "metadata": {}
        }
      ]
    },
    {
      "cell_type": "code",
      "source": [
        "y_capf"
      ],
      "metadata": {
        "id": "BLvhkl-DPVu2",
        "colab": {
          "base_uri": "https://localhost:8080/"
        },
        "outputId": "ab14cce6-cce4-4804-d0c2-6035515b5614"
      },
      "execution_count": 144,
      "outputs": [
        {
          "output_type": "execute_result",
          "data": {
            "text/plain": [
              "array([[0],\n",
              "       [0],\n",
              "       [0],\n",
              "       [0],\n",
              "       [1],\n",
              "       [1],\n",
              "       [0],\n",
              "       [0],\n",
              "       [0],\n",
              "       [1]])"
            ]
          },
          "metadata": {},
          "execution_count": 144
        }
      ]
    },
    {
      "cell_type": "code",
      "source": [
        "plot_decision_regions(x_testf,y_test.values.astype(int),clf=model)"
      ],
      "metadata": {
        "id": "BwbzJQhfPrko",
        "colab": {
          "base_uri": "https://localhost:8080/",
          "height": 465
        },
        "outputId": "22a9bba6-4e5c-46f9-a564-24f5694f0018"
      },
      "execution_count": 145,
      "outputs": [
        {
          "output_type": "stream",
          "name": "stdout",
          "text": [
            "9600/9600 [==============================] - 15s 2ms/step\n"
          ]
        },
        {
          "output_type": "execute_result",
          "data": {
            "text/plain": [
              "<Axes: >"
            ]
          },
          "metadata": {},
          "execution_count": 145
        },
        {
          "output_type": "display_data",
          "data": {
            "text/plain": [
              "<Figure size 640x480 with 1 Axes>"
            ],
            "image/png": "[encoded data removed]"
          },
          "metadata": {}
        }
      ]
    },
    {
      "cell_type": "code",
      "source": [
        "x_testf[[0,1]]"
      ],
      "metadata": {
        "colab": {
          "base_uri": "https://localhost:8080/"
        },
        "id": "GMHAuc1SPuZ_",
        "outputId": "6973ccba-1485-47a6-f5e6-949e00acd81d"
      },
      "execution_count": 146,
      "outputs": [
        {
          "output_type": "execute_result",
          "data": {
            "text/plain": [
              "array([[0.22801668, 0.02967944],\n",
              "       [0.30298878, 1.40258061]])"
            ]
          },
          "metadata": {},
          "execution_count": 146
        }
      ]
    },
    {
      "cell_type": "code",
      "source": [
        "plot_decision_regions(df[[0,1]].values,df[2].values.astype(int),clf=model)"
      ],
      "metadata": {
        "id": "VIltNWmEQO2e",
        "colab": {
          "base_uri": "https://localhost:8080/",
          "height": 465
        },
        "outputId": "28e61490-eb60-486b-f4fa-ead6e25f028e"
      },
      "execution_count": 147,
      "outputs": [
        {
          "output_type": "stream",
          "name": "stdout",
          "text": [
            "9600/9600 [==============================] - 14s 1ms/step\n"
          ]
        },
        {
          "output_type": "execute_result",
          "data": {
            "text/plain": [
              "<Axes: >"
            ]
          },
          "metadata": {},
          "execution_count": 147
        },
        {
          "output_type": "display_data",
          "data": {
            "text/plain": [
              "<Figure size 640x480 with 1 Axes>"
            ],
            "image/png": "[encoded data removed]"
          },
          "metadata": {}
        }
      ]
    },
    {
      "cell_type": "code",
      "source": [],
      "metadata": {
        "id": "IdgLRS0FQr5p"
      },
      "execution_count": null,
      "outputs": []
    }
  ]
}