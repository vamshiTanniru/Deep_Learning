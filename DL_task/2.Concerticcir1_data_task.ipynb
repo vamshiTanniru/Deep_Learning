{
  "nbformat": 4,
  "nbformat_minor": 0,
  "metadata": {
    "colab": {
      "provenance": []
    },
    "kernelspec": {
      "name": "python3",
      "display_name": "Python 3"
    },
    "language_info": {
      "name": "python"
    }
  },
  "cells": [
    {
      "cell_type": "code",
      "execution_count": 31,
      "metadata": {
        "id": "V_tkJcQ31DpC"
      },
      "outputs": [],
      "source": [
        "# Importing required libraries\n",
        "\n",
        "import pandas as pd\n",
        "import numpy as np\n",
        "import seaborn as sns\n",
        "import matplotlib.pyplot as plt"
      ]
    },
    {
      "cell_type": "code",
      "source": [
        "# Reading csv file to datframe\n",
        " \n",
        "df = pd.read_csv('/content/2.concerticcir1.csv',header=None)"
      ],
      "metadata": {
        "id": "sMdv4rhO1O1R"
      },
      "execution_count": 32,
      "outputs": []
    },
    {
      "cell_type": "code",
      "source": [
        "# Starting 5 data points\n",
        "df.head()"
      ],
      "metadata": {
        "colab": {
          "base_uri": "https://localhost:8080/",
          "height": 206
        },
        "id": "bDRSdetI2uQg",
        "outputId": "4b5e3df6-0243-47c1-a4c2-8fc3655f6de4"
      },
      "execution_count": 33,
      "outputs": [
        {
          "output_type": "execute_result",
          "data": {
            "text/plain": [
              "          0         1    2\n",
              "0 -0.382891 -0.090840  1.0\n",
              "1 -0.020962 -0.477874  1.0\n",
              "2 -0.396116 -1.289427  0.0\n",
              "3 -0.618130 -0.063837  1.0\n",
              "4  0.703478 -0.187038  1.0"
            ],
            "text/html": [
              "\n",
              "  <div id=\"df-5e425c88-c0cd-4191-a739-cc7dec759534\">\n",
              "    <div class=\"colab-df-container\">\n",
              "      <div>\n",
              "<style scoped>\n",
              "    .dataframe tbody tr th:only-of-type {\n",
              "        vertical-align: middle;\n",
              "    }\n",
              "\n",
              "    .dataframe tbody tr th {\n",
              "        vertical-align: top;\n",
              "    }\n",
              "\n",
              "    .dataframe thead th {\n",
              "        text-align: right;\n",
              "    }\n",
              "</style>\n",
              "<table border=\"1\" class=\"dataframe\">\n",
              "  <thead>\n",
              "    <tr style=\"text-align: right;\">\n",
              "      <th></th>\n",
              "      <th>0</th>\n",
              "      <th>1</th>\n",
              "      <th>2</th>\n",
              "    </tr>\n",
              "  </thead>\n",
              "  <tbody>\n",
              "    <tr>\n",
              "      <th>0</th>\n",
              "      <td>-0.382891</td>\n",
              "      <td>-0.090840</td>\n",
              "      <td>1.0</td>\n",
              "    </tr>\n",
              "    <tr>\n",
              "      <th>1</th>\n",
              "      <td>-0.020962</td>\n",
              "      <td>-0.477874</td>\n",
              "      <td>1.0</td>\n",
              "    </tr>\n",
              "    <tr>\n",
              "      <th>2</th>\n",
              "      <td>-0.396116</td>\n",
              "      <td>-1.289427</td>\n",
              "      <td>0.0</td>\n",
              "    </tr>\n",
              "    <tr>\n",
              "      <th>3</th>\n",
              "      <td>-0.618130</td>\n",
              "      <td>-0.063837</td>\n",
              "      <td>1.0</td>\n",
              "    </tr>\n",
              "    <tr>\n",
              "      <th>4</th>\n",
              "      <td>0.703478</td>\n",
              "      <td>-0.187038</td>\n",
              "      <td>1.0</td>\n",
              "    </tr>\n",
              "  </tbody>\n",
              "</table>\n",
              "</div>\n",
              "      <button class=\"colab-df-convert\" onclick=\"convertToInteractive('df-5e425c88-c0cd-4191-a739-cc7dec759534')\"\n",
              "              title=\"Convert this dataframe to an interactive table.\"\n",
              "              style=\"display:none;\">\n",
              "        \n",
              "  <svg xmlns=\"http://www.w3.org/2000/svg\" height=\"24px\"viewBox=\"0 0 24 24\"\n",
              "       width=\"24px\">\n",
              "    <path d=\"M0 0h24v24H0V0z\" fill=\"none\"/>\n",
              "    <path d=\"M18.56 5.44l.94 2.06.94-2.06 2.06-.94-2.06-.94-.94-2.06-.94 2.06-2.06.94zm-11 1L8.5 8.5l.94-2.06 2.06-.94-2.06-.94L8.5 2.5l-.94 2.06-2.06.94zm10 10l.94 2.06.94-2.06 2.06-.94-2.06-.94-.94-2.06-.94 2.06-2.06.94z\"/><path d=\"M17.41 7.96l-1.37-1.37c-.4-.4-.92-.59-1.43-.59-.52 0-1.04.2-1.43.59L10.3 9.45l-7.72 7.72c-.78.78-.78 2.05 0 2.83L4 21.41c.39.39.9.59 1.41.59.51 0 1.02-.2 1.41-.59l7.78-7.78 2.81-2.81c.8-.78.8-2.07 0-2.86zM5.41 20L4 18.59l7.72-7.72 1.47 1.35L5.41 20z\"/>\n",
              "  </svg>\n",
              "      </button>\n",
              "      \n",
              "  <style>\n",
              "    .colab-df-container {\n",
              "      display:flex;\n",
              "      flex-wrap:wrap;\n",
              "      gap: 12px;\n",
              "    }\n",
              "\n",
              "    .colab-df-convert {\n",
              "      background-color: #E8F0FE;\n",
              "      border: none;\n",
              "      border-radius: 50%;\n",
              "      cursor: pointer;\n",
              "      display: none;\n",
              "      fill: #1967D2;\n",
              "      height: 32px;\n",
              "      padding: 0 0 0 0;\n",
              "      width: 32px;\n",
              "    }\n",
              "\n",
              "    .colab-df-convert:hover {\n",
              "      background-color: #E2EBFA;\n",
              "      box-shadow: 0px 1px 2px rgba(60, 64, 67, 0.3), 0px 1px 3px 1px rgba(60, 64, 67, 0.15);\n",
              "      fill: #174EA6;\n",
              "    }\n",
              "\n",
              "    [theme=dark] .colab-df-convert {\n",
              "      background-color: #3B4455;\n",
              "      fill: #D2E3FC;\n",
              "    }\n",
              "\n",
              "    [theme=dark] .colab-df-convert:hover {\n",
              "      background-color: #434B5C;\n",
              "      box-shadow: 0px 1px 3px 1px rgba(0, 0, 0, 0.15);\n",
              "      filter: drop-shadow(0px 1px 2px rgba(0, 0, 0, 0.3));\n",
              "      fill: #FFFFFF;\n",
              "    }\n",
              "  </style>\n",
              "\n",
              "      <script>\n",
              "        const buttonEl =\n",
              "          document.querySelector('#df-5e425c88-c0cd-4191-a739-cc7dec759534 button.colab-df-convert');\n",
              "        buttonEl.style.display =\n",
              "          google.colab.kernel.accessAllowed ? 'block' : 'none';\n",
              "\n",
              "        async function convertToInteractive(key) {\n",
              "          const element = document.querySelector('#df-5e425c88-c0cd-4191-a739-cc7dec759534');\n",
              "          const dataTable =\n",
              "            await google.colab.kernel.invokeFunction('convertToInteractive',\n",
              "                                                     [key], {});\n",
              "          if (!dataTable) return;\n",
              "\n",
              "          const docLinkHtml = 'Like what you see? Visit the ' +\n",
              "            '<a target=\"_blank\" href=https://colab.research.google.com/notebooks/data_table.ipynb>data table notebook</a>'\n",
              "            + ' to learn more about interactive tables.';\n",
              "          element.innerHTML = '';\n",
              "          dataTable['output_type'] = 'display_data';\n",
              "          await google.colab.output.renderOutput(dataTable, element);\n",
              "          const docLink = document.createElement('div');\n",
              "          docLink.innerHTML = docLinkHtml;\n",
              "          element.appendChild(docLink);\n",
              "        }\n",
              "      </script>\n",
              "    </div>\n",
              "  </div>\n",
              "  "
            ]
          },
          "metadata": {},
          "execution_count": 33
        }
      ]
    },
    {
      "cell_type": "code",
      "source": [
        "# Shape of dataframe\n",
        "df.shape"
      ],
      "metadata": {
        "colab": {
          "base_uri": "https://localhost:8080/"
        },
        "id": "C6h3K2SK72Zt",
        "outputId": "4ad50767-f4f0-4469-9478-d28035ba4d63"
      },
      "execution_count": 34,
      "outputs": [
        {
          "output_type": "execute_result",
          "data": {
            "text/plain": [
              "(100, 3)"
            ]
          },
          "metadata": {},
          "execution_count": 34
        }
      ]
    },
    {
      "cell_type": "code",
      "source": [
        "df[[0,1]]"
      ],
      "metadata": {
        "id": "4WVnSYml229-",
        "colab": {
          "base_uri": "https://localhost:8080/",
          "height": 423
        },
        "outputId": "c3422a53-d789-4b85-b48d-4387764c1649"
      },
      "execution_count": 35,
      "outputs": [
        {
          "output_type": "execute_result",
          "data": {
            "text/plain": [
              "           0         1\n",
              "0  -0.382891 -0.090840\n",
              "1  -0.020962 -0.477874\n",
              "2  -0.396116 -1.289427\n",
              "3  -0.618130 -0.063837\n",
              "4   0.703478 -0.187038\n",
              "..       ...       ...\n",
              "95 -0.474862 -0.224981\n",
              "96  0.126272  0.869784\n",
              "97 -0.647365 -0.363424\n",
              "98  0.474405  1.011016\n",
              "99 -0.385658 -0.810312\n",
              "\n",
              "[100 rows x 2 columns]"
            ],
            "text/html": [
              "\n",
              "  <div id=\"df-e27ed766-a0c7-4c74-a39a-be53bcd4ba71\">\n",
              "    <div class=\"colab-df-container\">\n",
              "      <div>\n",
              "<style scoped>\n",
              "    .dataframe tbody tr th:only-of-type {\n",
              "        vertical-align: middle;\n",
              "    }\n",
              "\n",
              "    .dataframe tbody tr th {\n",
              "        vertical-align: top;\n",
              "    }\n",
              "\n",
              "    .dataframe thead th {\n",
              "        text-align: right;\n",
              "    }\n",
              "</style>\n",
              "<table border=\"1\" class=\"dataframe\">\n",
              "  <thead>\n",
              "    <tr style=\"text-align: right;\">\n",
              "      <th></th>\n",
              "      <th>0</th>\n",
              "      <th>1</th>\n",
              "    </tr>\n",
              "  </thead>\n",
              "  <tbody>\n",
              "    <tr>\n",
              "      <th>0</th>\n",
              "      <td>-0.382891</td>\n",
              "      <td>-0.090840</td>\n",
              "    </tr>\n",
              "    <tr>\n",
              "      <th>1</th>\n",
              "      <td>-0.020962</td>\n",
              "      <td>-0.477874</td>\n",
              "    </tr>\n",
              "    <tr>\n",
              "      <th>2</th>\n",
              "      <td>-0.396116</td>\n",
              "      <td>-1.289427</td>\n",
              "    </tr>\n",
              "    <tr>\n",
              "      <th>3</th>\n",
              "      <td>-0.618130</td>\n",
              "      <td>-0.063837</td>\n",
              "    </tr>\n",
              "    <tr>\n",
              "      <th>4</th>\n",
              "      <td>0.703478</td>\n",
              "      <td>-0.187038</td>\n",
              "    </tr>\n",
              "    <tr>\n",
              "      <th>...</th>\n",
              "      <td>...</td>\n",
              "      <td>...</td>\n",
              "    </tr>\n",
              "    <tr>\n",
              "      <th>95</th>\n",
              "      <td>-0.474862</td>\n",
              "      <td>-0.224981</td>\n",
              "    </tr>\n",
              "    <tr>\n",
              "      <th>96</th>\n",
              "      <td>0.126272</td>\n",
              "      <td>0.869784</td>\n",
              "    </tr>\n",
              "    <tr>\n",
              "      <th>97</th>\n",
              "      <td>-0.647365</td>\n",
              "      <td>-0.363424</td>\n",
              "    </tr>\n",
              "    <tr>\n",
              "      <th>98</th>\n",
              "      <td>0.474405</td>\n",
              "      <td>1.011016</td>\n",
              "    </tr>\n",
              "    <tr>\n",
              "      <th>99</th>\n",
              "      <td>-0.385658</td>\n",
              "      <td>-0.810312</td>\n",
              "    </tr>\n",
              "  </tbody>\n",
              "</table>\n",
              "<p>100 rows × 2 columns</p>\n",
              "</div>\n",
              "      <button class=\"colab-df-convert\" onclick=\"convertToInteractive('df-e27ed766-a0c7-4c74-a39a-be53bcd4ba71')\"\n",
              "              title=\"Convert this dataframe to an interactive table.\"\n",
              "              style=\"display:none;\">\n",
              "        \n",
              "  <svg xmlns=\"http://www.w3.org/2000/svg\" height=\"24px\"viewBox=\"0 0 24 24\"\n",
              "       width=\"24px\">\n",
              "    <path d=\"M0 0h24v24H0V0z\" fill=\"none\"/>\n",
              "    <path d=\"M18.56 5.44l.94 2.06.94-2.06 2.06-.94-2.06-.94-.94-2.06-.94 2.06-2.06.94zm-11 1L8.5 8.5l.94-2.06 2.06-.94-2.06-.94L8.5 2.5l-.94 2.06-2.06.94zm10 10l.94 2.06.94-2.06 2.06-.94-2.06-.94-.94-2.06-.94 2.06-2.06.94z\"/><path d=\"M17.41 7.96l-1.37-1.37c-.4-.4-.92-.59-1.43-.59-.52 0-1.04.2-1.43.59L10.3 9.45l-7.72 7.72c-.78.78-.78 2.05 0 2.83L4 21.41c.39.39.9.59 1.41.59.51 0 1.02-.2 1.41-.59l7.78-7.78 2.81-2.81c.8-.78.8-2.07 0-2.86zM5.41 20L4 18.59l7.72-7.72 1.47 1.35L5.41 20z\"/>\n",
              "  </svg>\n",
              "      </button>\n",
              "      \n",
              "  <style>\n",
              "    .colab-df-container {\n",
              "      display:flex;\n",
              "      flex-wrap:wrap;\n",
              "      gap: 12px;\n",
              "    }\n",
              "\n",
              "    .colab-df-convert {\n",
              "      background-color: #E8F0FE;\n",
              "      border: none;\n",
              "      border-radius: 50%;\n",
              "      cursor: pointer;\n",
              "      display: none;\n",
              "      fill: #1967D2;\n",
              "      height: 32px;\n",
              "      padding: 0 0 0 0;\n",
              "      width: 32px;\n",
              "    }\n",
              "\n",
              "    .colab-df-convert:hover {\n",
              "      background-color: #E2EBFA;\n",
              "      box-shadow: 0px 1px 2px rgba(60, 64, 67, 0.3), 0px 1px 3px 1px rgba(60, 64, 67, 0.15);\n",
              "      fill: #174EA6;\n",
              "    }\n",
              "\n",
              "    [theme=dark] .colab-df-convert {\n",
              "      background-color: #3B4455;\n",
              "      fill: #D2E3FC;\n",
              "    }\n",
              "\n",
              "    [theme=dark] .colab-df-convert:hover {\n",
              "      background-color: #434B5C;\n",
              "      box-shadow: 0px 1px 3px 1px rgba(0, 0, 0, 0.15);\n",
              "      filter: drop-shadow(0px 1px 2px rgba(0, 0, 0, 0.3));\n",
              "      fill: #FFFFFF;\n",
              "    }\n",
              "  </style>\n",
              "\n",
              "      <script>\n",
              "        const buttonEl =\n",
              "          document.querySelector('#df-e27ed766-a0c7-4c74-a39a-be53bcd4ba71 button.colab-df-convert');\n",
              "        buttonEl.style.display =\n",
              "          google.colab.kernel.accessAllowed ? 'block' : 'none';\n",
              "\n",
              "        async function convertToInteractive(key) {\n",
              "          const element = document.querySelector('#df-e27ed766-a0c7-4c74-a39a-be53bcd4ba71');\n",
              "          const dataTable =\n",
              "            await google.colab.kernel.invokeFunction('convertToInteractive',\n",
              "                                                     [key], {});\n",
              "          if (!dataTable) return;\n",
              "\n",
              "          const docLinkHtml = 'Like what you see? Visit the ' +\n",
              "            '<a target=\"_blank\" href=https://colab.research.google.com/notebooks/data_table.ipynb>data table notebook</a>'\n",
              "            + ' to learn more about interactive tables.';\n",
              "          element.innerHTML = '';\n",
              "          dataTable['output_type'] = 'display_data';\n",
              "          await google.colab.output.renderOutput(dataTable, element);\n",
              "          const docLink = document.createElement('div');\n",
              "          docLink.innerHTML = docLinkHtml;\n",
              "          element.appendChild(docLink);\n",
              "        }\n",
              "      </script>\n",
              "    </div>\n",
              "  </div>\n",
              "  "
            ]
          },
          "metadata": {},
          "execution_count": 35
        }
      ]
    },
    {
      "cell_type": "code",
      "source": [
        "sns.scatterplot(x=df[0],y= df[1],hue=df[2]);"
      ],
      "metadata": {
        "id": "sfGlaJ8U7iuK",
        "colab": {
          "base_uri": "https://localhost:8080/",
          "height": 449
        },
        "outputId": "9c387de8-5bc7-4f6a-ca72-b43ec1db8e01"
      },
      "execution_count": 36,
      "outputs": [
        {
          "output_type": "display_data",
          "data": {
            "text/plain": [
              "<Figure size 640x480 with 1 Axes>"
            ],
            "image/png": "[encoded data removed]"
          },
          "metadata": {}
        }
      ]
    },
    {
      "cell_type": "code",
      "source": [
        "from sklearn.model_selection import train_test_split\n",
        "x_train,x_test,y_train,y_test=train_test_split(df[[0,1]],df[2],test_size=0.1)"
      ],
      "metadata": {
        "id": "DNrbf8neMfOs"
      },
      "execution_count": 37,
      "outputs": []
    },
    {
      "cell_type": "code",
      "source": [
        "import tensorflow\n",
        "from tensorflow import keras\n",
        "from keras.models import Sequential\n",
        "from keras.layers import Dense,Dropout"
      ],
      "metadata": {
        "id": "y5dlkOmeNIu6"
      },
      "execution_count": 38,
      "outputs": []
    },
    {
      "cell_type": "code",
      "source": [
        "x_test.shape"
      ],
      "metadata": {
        "colab": {
          "base_uri": "https://localhost:8080/"
        },
        "id": "l9zDMqepN09J",
        "outputId": "56157e46-88fd-444d-a6f6-21cb3fee48b9"
      },
      "execution_count": 39,
      "outputs": [
        {
          "output_type": "execute_result",
          "data": {
            "text/plain": [
              "(10, 2)"
            ]
          },
          "metadata": {},
          "execution_count": 39
        }
      ]
    },
    {
      "cell_type": "code",
      "source": [
        "from sklearn.preprocessing import StandardScaler\n",
        "std = StandardScaler()\n",
        "x_trainf = std.fit_transform(x_train)\n",
        "x_testf = std.transform(x_test)"
      ],
      "metadata": {
        "id": "LwsxbJ-tN-JW"
      },
      "execution_count": 40,
      "outputs": []
    },
    {
      "cell_type": "code",
      "source": [
        "model=Sequential()\n",
        "model.add(Dense(6,activation=\"relu\",input_dim=2))\n",
        "\n",
        "model.add(Dense(4,activation=\"relu\"))\n",
        "\n",
        "model.add(Dense(2,activation=\"relu\"))\n",
        "\n",
        "model.add(Dense(1,activation=\"sigmoid\"))"
      ],
      "metadata": {
        "id": "8UMlufwhOyom"
      },
      "execution_count": 41,
      "outputs": []
    },
    {
      "cell_type": "code",
      "source": [
        "model.get_weights()"
      ],
      "metadata": {
        "colab": {
          "base_uri": "https://localhost:8080/"
        },
        "id": "gW3M-LeFCuKu",
        "outputId": "473ed5cc-a54f-40a3-d537-4c8188feb57f"
      },
      "execution_count": 42,
      "outputs": [
        {
          "output_type": "execute_result",
          "data": {
            "text/plain": [
              "[array([[ 0.3194508 , -0.529482  ,  0.2664935 , -0.10624397,  0.6203906 ,\n",
              "         -0.8450895 ],\n",
              "        [-0.6268692 ,  0.28305763,  0.6869169 , -0.82487583, -0.23393935,\n",
              "         -0.74790657]], dtype=float32),\n",
              " array([0., 0., 0., 0., 0., 0.], dtype=float32),\n",
              " array([[-0.569554  ,  0.28526676, -0.08781767,  0.39738882],\n",
              "        [-0.6517925 , -0.13675922, -0.26564598, -0.17127597],\n",
              "        [ 0.06604868, -0.44995156,  0.41047823, -0.53263867],\n",
              "        [ 0.03530496,  0.0648219 ,  0.6831112 ,  0.34302676],\n",
              "        [-0.59095854,  0.6981261 ,  0.383932  , -0.596703  ],\n",
              "        [ 0.68595874,  0.00117123, -0.211384  ,  0.3353473 ]],\n",
              "       dtype=float32),\n",
              " array([0., 0., 0., 0.], dtype=float32),\n",
              " array([[-0.15045452,  0.4660356 ],\n",
              "        [ 0.339324  , -0.40396357],\n",
              "        [-0.08174157,  0.22049356],\n",
              "        [-0.8202481 ,  0.41047502]], dtype=float32),\n",
              " array([0., 0.], dtype=float32),\n",
              " array([[-0.95438504],\n",
              "        [ 0.55415046]], dtype=float32),\n",
              " array([0.], dtype=float32)]"
            ]
          },
          "metadata": {},
          "execution_count": 42
        }
      ]
    },
    {
      "cell_type": "code",
      "source": [
        "model.summary()"
      ],
      "metadata": {
        "colab": {
          "base_uri": "https://localhost:8080/"
        },
        "id": "MzLMrXpvO1Ya",
        "outputId": "ddd4c3a5-671d-438f-f91c-af8ad8f6effe"
      },
      "execution_count": 43,
      "outputs": [
        {
          "output_type": "stream",
          "name": "stdout",
          "text": [
            "Model: \"sequential_1\"\n",
            "_________________________________________________________________\n",
            " Layer (type)                Output Shape              Param #   \n",
            "=================================================================\n",
            " dense_2 (Dense)             (None, 6)                 18        \n",
            "                                                                 \n",
            " dense_3 (Dense)             (None, 4)                 28        \n",
            "                                                                 \n",
            " dense_4 (Dense)             (None, 2)                 10        \n",
            "                                                                 \n",
            " dense_5 (Dense)             (None, 1)                 3         \n",
            "                                                                 \n",
            "=================================================================\n",
            "Total params: 59\n",
            "Trainable params: 59\n",
            "Non-trainable params: 0\n",
            "_________________________________________________________________\n"
          ]
        }
      ]
    },
    {
      "cell_type": "code",
      "source": [
        "model.compile(optimizer=\"Adam\",loss=\"binary_crossentropy\",metrics=[\"accuracy\"])"
      ],
      "metadata": {
        "id": "5yA9YE3oO5_3"
      },
      "execution_count": 44,
      "outputs": []
    },
    {
      "cell_type": "code",
      "source": [
        "history=model.fit(x_trainf,y_train,epochs=200,validation_split=0.2)"
      ],
      "metadata": {
        "colab": {
          "base_uri": "https://localhost:8080/"
        },
        "id": "yPIZ4wPsO-z2",
        "outputId": "4865b32b-6581-4b70-dc25-e2f613acecc0"
      },
      "execution_count": 51,
      "outputs": [
        {
          "output_type": "stream",
          "name": "stdout",
          "text": [
            "Epoch 1/200\n",
            "3/3 [==============================] - 0s 58ms/step - loss: 0.6444 - accuracy: 0.5833 - val_loss: 0.6555 - val_accuracy: 0.5556\n",
            "Epoch 2/200\n",
            "3/3 [==============================] - 0s 36ms/step - loss: 0.6442 - accuracy: 0.5833 - val_loss: 0.6551 - val_accuracy: 0.5556\n",
            "Epoch 3/200\n",
            "3/3 [==============================] - 0s 36ms/step - loss: 0.6439 - accuracy: 0.5833 - val_loss: 0.6547 - val_accuracy: 0.5556\n",
            "Epoch 4/200\n",
            "3/3 [==============================] - 0s 30ms/step - loss: 0.6436 - accuracy: 0.5833 - val_loss: 0.6542 - val_accuracy: 0.5556\n",
            "Epoch 5/200\n",
            "3/3 [==============================] - 0s 37ms/step - loss: 0.6433 - accuracy: 0.5833 - val_loss: 0.6538 - val_accuracy: 0.5556\n",
            "Epoch 6/200\n",
            "3/3 [==============================] - 0s 35ms/step - loss: 0.6431 - accuracy: 0.5833 - val_loss: 0.6535 - val_accuracy: 0.5556\n",
            "Epoch 7/200\n",
            "3/3 [==============================] - 0s 32ms/step - loss: 0.6428 - accuracy: 0.5833 - val_loss: 0.6535 - val_accuracy: 0.5556\n",
            "Epoch 8/200\n",
            "3/3 [==============================] - 0s 52ms/step - loss: 0.6427 - accuracy: 0.5833 - val_loss: 0.6535 - val_accuracy: 0.5556\n",
            "Epoch 9/200\n",
            "3/3 [==============================] - 0s 35ms/step - loss: 0.6422 - accuracy: 0.5833 - val_loss: 0.6533 - val_accuracy: 0.5556\n",
            "Epoch 10/200\n",
            "3/3 [==============================] - 0s 30ms/step - loss: 0.6419 - accuracy: 0.5833 - val_loss: 0.6529 - val_accuracy: 0.5556\n",
            "Epoch 11/200\n",
            "3/3 [==============================] - 0s 38ms/step - loss: 0.6415 - accuracy: 0.5833 - val_loss: 0.6523 - val_accuracy: 0.5556\n",
            "Epoch 12/200\n",
            "3/3 [==============================] - 0s 30ms/step - loss: 0.6412 - accuracy: 0.5833 - val_loss: 0.6517 - val_accuracy: 0.5556\n",
            "Epoch 13/200\n",
            "3/3 [==============================] - 0s 38ms/step - loss: 0.6409 - accuracy: 0.5833 - val_loss: 0.6511 - val_accuracy: 0.5556\n",
            "Epoch 14/200\n",
            "3/3 [==============================] - 0s 28ms/step - loss: 0.6406 - accuracy: 0.5833 - val_loss: 0.6506 - val_accuracy: 0.5556\n",
            "Epoch 15/200\n",
            "3/3 [==============================] - 0s 39ms/step - loss: 0.6403 - accuracy: 0.5833 - val_loss: 0.6502 - val_accuracy: 0.5556\n",
            "Epoch 16/200\n",
            "3/3 [==============================] - 0s 36ms/step - loss: 0.6399 - accuracy: 0.5833 - val_loss: 0.6498 - val_accuracy: 0.5556\n",
            "Epoch 17/200\n",
            "3/3 [==============================] - 0s 38ms/step - loss: 0.6397 - accuracy: 0.5833 - val_loss: 0.6492 - val_accuracy: 0.5556\n",
            "Epoch 18/200\n",
            "3/3 [==============================] - 0s 19ms/step - loss: 0.6394 - accuracy: 0.5833 - val_loss: 0.6489 - val_accuracy: 0.5556\n",
            "Epoch 19/200\n",
            "3/3 [==============================] - 0s 19ms/step - loss: 0.6391 - accuracy: 0.5833 - val_loss: 0.6486 - val_accuracy: 0.5556\n",
            "Epoch 20/200\n",
            "3/3 [==============================] - 0s 20ms/step - loss: 0.6386 - accuracy: 0.5833 - val_loss: 0.6483 - val_accuracy: 0.5556\n",
            "Epoch 21/200\n",
            "3/3 [==============================] - 0s 21ms/step - loss: 0.6384 - accuracy: 0.5833 - val_loss: 0.6480 - val_accuracy: 0.5556\n",
            "Epoch 22/200\n",
            "3/3 [==============================] - 0s 19ms/step - loss: 0.6380 - accuracy: 0.5833 - val_loss: 0.6477 - val_accuracy: 0.5556\n",
            "Epoch 23/200\n",
            "3/3 [==============================] - 0s 21ms/step - loss: 0.6377 - accuracy: 0.5833 - val_loss: 0.6474 - val_accuracy: 0.5556\n",
            "Epoch 24/200\n",
            "3/3 [==============================] - 0s 27ms/step - loss: 0.6372 - accuracy: 0.5833 - val_loss: 0.6472 - val_accuracy: 0.5556\n",
            "Epoch 25/200\n",
            "3/3 [==============================] - 0s 18ms/step - loss: 0.6368 - accuracy: 0.5833 - val_loss: 0.6471 - val_accuracy: 0.5556\n",
            "Epoch 26/200\n",
            "3/3 [==============================] - 0s 30ms/step - loss: 0.6364 - accuracy: 0.5833 - val_loss: 0.6471 - val_accuracy: 0.5556\n",
            "Epoch 27/200\n",
            "3/3 [==============================] - 0s 19ms/step - loss: 0.6360 - accuracy: 0.5833 - val_loss: 0.6470 - val_accuracy: 0.5556\n",
            "Epoch 28/200\n",
            "3/3 [==============================] - 0s 20ms/step - loss: 0.6356 - accuracy: 0.5833 - val_loss: 0.6469 - val_accuracy: 0.5556\n",
            "Epoch 29/200\n",
            "3/3 [==============================] - 0s 28ms/step - loss: 0.6351 - accuracy: 0.5833 - val_loss: 0.6466 - val_accuracy: 0.5556\n",
            "Epoch 30/200\n",
            "3/3 [==============================] - 0s 19ms/step - loss: 0.6346 - accuracy: 0.5833 - val_loss: 0.6462 - val_accuracy: 0.5556\n",
            "Epoch 31/200\n",
            "3/3 [==============================] - 0s 27ms/step - loss: 0.6342 - accuracy: 0.5833 - val_loss: 0.6458 - val_accuracy: 0.5556\n",
            "Epoch 32/200\n",
            "3/3 [==============================] - 0s 28ms/step - loss: 0.6337 - accuracy: 0.5833 - val_loss: 0.6456 - val_accuracy: 0.5556\n",
            "Epoch 33/200\n",
            "3/3 [==============================] - 0s 18ms/step - loss: 0.6333 - accuracy: 0.5833 - val_loss: 0.6454 - val_accuracy: 0.5556\n",
            "Epoch 34/200\n",
            "3/3 [==============================] - 0s 19ms/step - loss: 0.6328 - accuracy: 0.5833 - val_loss: 0.6451 - val_accuracy: 0.5556\n",
            "Epoch 35/200\n",
            "3/3 [==============================] - 0s 19ms/step - loss: 0.6325 - accuracy: 0.5833 - val_loss: 0.6450 - val_accuracy: 0.5556\n",
            "Epoch 36/200\n",
            "3/3 [==============================] - 0s 27ms/step - loss: 0.6321 - accuracy: 0.5833 - val_loss: 0.6448 - val_accuracy: 0.5556\n",
            "Epoch 37/200\n",
            "3/3 [==============================] - 0s 19ms/step - loss: 0.6316 - accuracy: 0.5833 - val_loss: 0.6444 - val_accuracy: 0.5556\n",
            "Epoch 38/200\n",
            "3/3 [==============================] - 0s 28ms/step - loss: 0.6312 - accuracy: 0.5833 - val_loss: 0.6438 - val_accuracy: 0.5556\n",
            "Epoch 39/200\n",
            "3/3 [==============================] - 0s 19ms/step - loss: 0.6307 - accuracy: 0.5833 - val_loss: 0.6430 - val_accuracy: 0.5556\n",
            "Epoch 40/200\n",
            "3/3 [==============================] - 0s 18ms/step - loss: 0.6303 - accuracy: 0.5833 - val_loss: 0.6423 - val_accuracy: 0.5556\n",
            "Epoch 41/200\n",
            "3/3 [==============================] - 0s 18ms/step - loss: 0.6299 - accuracy: 0.5833 - val_loss: 0.6416 - val_accuracy: 0.5556\n",
            "Epoch 42/200\n",
            "3/3 [==============================] - 0s 27ms/step - loss: 0.6294 - accuracy: 0.5833 - val_loss: 0.6412 - val_accuracy: 0.5556\n",
            "Epoch 43/200\n",
            "3/3 [==============================] - 0s 20ms/step - loss: 0.6288 - accuracy: 0.5833 - val_loss: 0.6408 - val_accuracy: 0.5556\n",
            "Epoch 44/200\n",
            "3/3 [==============================] - 0s 19ms/step - loss: 0.6284 - accuracy: 0.5833 - val_loss: 0.6405 - val_accuracy: 0.5556\n",
            "Epoch 45/200\n",
            "3/3 [==============================] - 0s 19ms/step - loss: 0.6279 - accuracy: 0.5833 - val_loss: 0.6402 - val_accuracy: 0.5556\n",
            "Epoch 46/200\n",
            "3/3 [==============================] - 0s 19ms/step - loss: 0.6274 - accuracy: 0.5833 - val_loss: 0.6395 - val_accuracy: 0.5556\n",
            "Epoch 47/200\n",
            "3/3 [==============================] - 0s 28ms/step - loss: 0.6269 - accuracy: 0.5833 - val_loss: 0.6386 - val_accuracy: 0.5556\n",
            "Epoch 48/200\n",
            "3/3 [==============================] - 0s 29ms/step - loss: 0.6266 - accuracy: 0.5833 - val_loss: 0.6376 - val_accuracy: 0.5556\n",
            "Epoch 49/200\n",
            "3/3 [==============================] - 0s 27ms/step - loss: 0.6259 - accuracy: 0.5972 - val_loss: 0.6372 - val_accuracy: 0.5556\n",
            "Epoch 50/200\n",
            "3/3 [==============================] - 0s 23ms/step - loss: 0.6254 - accuracy: 0.5972 - val_loss: 0.6366 - val_accuracy: 0.5556\n",
            "Epoch 51/200\n",
            "3/3 [==============================] - 0s 28ms/step - loss: 0.6251 - accuracy: 0.5833 - val_loss: 0.6363 - val_accuracy: 0.5556\n",
            "Epoch 52/200\n",
            "3/3 [==============================] - 0s 23ms/step - loss: 0.6245 - accuracy: 0.5694 - val_loss: 0.6360 - val_accuracy: 0.5556\n",
            "Epoch 53/200\n",
            "3/3 [==============================] - 0s 24ms/step - loss: 0.6240 - accuracy: 0.5694 - val_loss: 0.6359 - val_accuracy: 0.5556\n",
            "Epoch 54/200\n",
            "3/3 [==============================] - 0s 19ms/step - loss: 0.6235 - accuracy: 0.5694 - val_loss: 0.6356 - val_accuracy: 0.5556\n",
            "Epoch 55/200\n",
            "3/3 [==============================] - 0s 18ms/step - loss: 0.6231 - accuracy: 0.5694 - val_loss: 0.6353 - val_accuracy: 0.5556\n",
            "Epoch 56/200\n",
            "3/3 [==============================] - 0s 19ms/step - loss: 0.6229 - accuracy: 0.5694 - val_loss: 0.6347 - val_accuracy: 0.5556\n",
            "Epoch 57/200\n",
            "3/3 [==============================] - 0s 19ms/step - loss: 0.6221 - accuracy: 0.5694 - val_loss: 0.6335 - val_accuracy: 0.5556\n",
            "Epoch 58/200\n",
            "3/3 [==============================] - 0s 20ms/step - loss: 0.6215 - accuracy: 0.5833 - val_loss: 0.6323 - val_accuracy: 0.5556\n",
            "Epoch 59/200\n",
            "3/3 [==============================] - 0s 19ms/step - loss: 0.6208 - accuracy: 0.5972 - val_loss: 0.6309 - val_accuracy: 0.5556\n",
            "Epoch 60/200\n",
            "3/3 [==============================] - 0s 18ms/step - loss: 0.6202 - accuracy: 0.5972 - val_loss: 0.6296 - val_accuracy: 0.5556\n",
            "Epoch 61/200\n",
            "3/3 [==============================] - 0s 19ms/step - loss: 0.6195 - accuracy: 0.6111 - val_loss: 0.6283 - val_accuracy: 0.5556\n",
            "Epoch 62/200\n",
            "3/3 [==============================] - 0s 18ms/step - loss: 0.6188 - accuracy: 0.6111 - val_loss: 0.6269 - val_accuracy: 0.5556\n",
            "Epoch 63/200\n",
            "3/3 [==============================] - 0s 19ms/step - loss: 0.6181 - accuracy: 0.6250 - val_loss: 0.6251 - val_accuracy: 0.5556\n",
            "Epoch 64/200\n",
            "3/3 [==============================] - 0s 21ms/step - loss: 0.6172 - accuracy: 0.6250 - val_loss: 0.6232 - val_accuracy: 0.5556\n",
            "Epoch 65/200\n",
            "3/3 [==============================] - 0s 19ms/step - loss: 0.6167 - accuracy: 0.6250 - val_loss: 0.6213 - val_accuracy: 0.5556\n",
            "Epoch 66/200\n",
            "3/3 [==============================] - 0s 19ms/step - loss: 0.6160 - accuracy: 0.6250 - val_loss: 0.6197 - val_accuracy: 0.5556\n",
            "Epoch 67/200\n",
            "3/3 [==============================] - 0s 18ms/step - loss: 0.6153 - accuracy: 0.6250 - val_loss: 0.6182 - val_accuracy: 0.5556\n",
            "Epoch 68/200\n",
            "3/3 [==============================] - 0s 18ms/step - loss: 0.6148 - accuracy: 0.6250 - val_loss: 0.6170 - val_accuracy: 0.5556\n",
            "Epoch 69/200\n",
            "3/3 [==============================] - 0s 22ms/step - loss: 0.6141 - accuracy: 0.6250 - val_loss: 0.6162 - val_accuracy: 0.5556\n",
            "Epoch 70/200\n",
            "3/3 [==============================] - 0s 21ms/step - loss: 0.6135 - accuracy: 0.6250 - val_loss: 0.6152 - val_accuracy: 0.5556\n",
            "Epoch 71/200\n",
            "3/3 [==============================] - 0s 19ms/step - loss: 0.6127 - accuracy: 0.6250 - val_loss: 0.6144 - val_accuracy: 0.5556\n",
            "Epoch 72/200\n",
            "3/3 [==============================] - 0s 19ms/step - loss: 0.6119 - accuracy: 0.6111 - val_loss: 0.6138 - val_accuracy: 0.5556\n",
            "Epoch 73/200\n",
            "3/3 [==============================] - 0s 18ms/step - loss: 0.6114 - accuracy: 0.6111 - val_loss: 0.6134 - val_accuracy: 0.5556\n",
            "Epoch 74/200\n",
            "3/3 [==============================] - 0s 18ms/step - loss: 0.6106 - accuracy: 0.6250 - val_loss: 0.6129 - val_accuracy: 0.6111\n",
            "Epoch 75/200\n",
            "3/3 [==============================] - 0s 18ms/step - loss: 0.6098 - accuracy: 0.6250 - val_loss: 0.6128 - val_accuracy: 0.6111\n",
            "Epoch 76/200\n",
            "3/3 [==============================] - 0s 28ms/step - loss: 0.6091 - accuracy: 0.6250 - val_loss: 0.6127 - val_accuracy: 0.6111\n",
            "Epoch 77/200\n",
            "3/3 [==============================] - 0s 20ms/step - loss: 0.6086 - accuracy: 0.6250 - val_loss: 0.6125 - val_accuracy: 0.6111\n",
            "Epoch 78/200\n",
            "3/3 [==============================] - 0s 19ms/step - loss: 0.6079 - accuracy: 0.6250 - val_loss: 0.6123 - val_accuracy: 0.6111\n",
            "Epoch 79/200\n",
            "3/3 [==============================] - 0s 19ms/step - loss: 0.6071 - accuracy: 0.6250 - val_loss: 0.6120 - val_accuracy: 0.6667\n",
            "Epoch 80/200\n",
            "3/3 [==============================] - 0s 20ms/step - loss: 0.6063 - accuracy: 0.6250 - val_loss: 0.6120 - val_accuracy: 0.6667\n",
            "Epoch 81/200\n",
            "3/3 [==============================] - 0s 29ms/step - loss: 0.6057 - accuracy: 0.6111 - val_loss: 0.6121 - val_accuracy: 0.6667\n",
            "Epoch 82/200\n",
            "3/3 [==============================] - 0s 28ms/step - loss: 0.6049 - accuracy: 0.6111 - val_loss: 0.6116 - val_accuracy: 0.6667\n",
            "Epoch 83/200\n",
            "3/3 [==============================] - 0s 18ms/step - loss: 0.6041 - accuracy: 0.6111 - val_loss: 0.6107 - val_accuracy: 0.6667\n",
            "Epoch 84/200\n",
            "3/3 [==============================] - 0s 18ms/step - loss: 0.6033 - accuracy: 0.6250 - val_loss: 0.6097 - val_accuracy: 0.6667\n",
            "Epoch 85/200\n",
            "3/3 [==============================] - 0s 18ms/step - loss: 0.6023 - accuracy: 0.6389 - val_loss: 0.6085 - val_accuracy: 0.6667\n",
            "Epoch 86/200\n",
            "3/3 [==============================] - 0s 18ms/step - loss: 0.6013 - accuracy: 0.6389 - val_loss: 0.6075 - val_accuracy: 0.6667\n",
            "Epoch 87/200\n",
            "3/3 [==============================] - 0s 18ms/step - loss: 0.6003 - accuracy: 0.6389 - val_loss: 0.6068 - val_accuracy: 0.6667\n",
            "Epoch 88/200\n",
            "3/3 [==============================] - 0s 23ms/step - loss: 0.5992 - accuracy: 0.6389 - val_loss: 0.6061 - val_accuracy: 0.6667\n",
            "Epoch 89/200\n",
            "3/3 [==============================] - 0s 30ms/step - loss: 0.5983 - accuracy: 0.6389 - val_loss: 0.6050 - val_accuracy: 0.6667\n",
            "Epoch 90/200\n",
            "3/3 [==============================] - 0s 19ms/step - loss: 0.5971 - accuracy: 0.6389 - val_loss: 0.6038 - val_accuracy: 0.6667\n",
            "Epoch 91/200\n",
            "3/3 [==============================] - 0s 18ms/step - loss: 0.5960 - accuracy: 0.6528 - val_loss: 0.6024 - val_accuracy: 0.6667\n",
            "Epoch 92/200\n",
            "3/3 [==============================] - 0s 18ms/step - loss: 0.5948 - accuracy: 0.6528 - val_loss: 0.6009 - val_accuracy: 0.6667\n",
            "Epoch 93/200\n",
            "3/3 [==============================] - 0s 18ms/step - loss: 0.5936 - accuracy: 0.6528 - val_loss: 0.5993 - val_accuracy: 0.7222\n",
            "Epoch 94/200\n",
            "3/3 [==============================] - 0s 19ms/step - loss: 0.5916 - accuracy: 0.6528 - val_loss: 0.5975 - val_accuracy: 0.7222\n",
            "Epoch 95/200\n",
            "3/3 [==============================] - 0s 19ms/step - loss: 0.5896 - accuracy: 0.6528 - val_loss: 0.5955 - val_accuracy: 0.7222\n",
            "Epoch 96/200\n",
            "3/3 [==============================] - 0s 25ms/step - loss: 0.5873 - accuracy: 0.6667 - val_loss: 0.5936 - val_accuracy: 0.7222\n",
            "Epoch 97/200\n",
            "3/3 [==============================] - 0s 19ms/step - loss: 0.5853 - accuracy: 0.6806 - val_loss: 0.5921 - val_accuracy: 0.7222\n",
            "Epoch 98/200\n",
            "3/3 [==============================] - 0s 30ms/step - loss: 0.5827 - accuracy: 0.7083 - val_loss: 0.5906 - val_accuracy: 0.7222\n",
            "Epoch 99/200\n",
            "3/3 [==============================] - 0s 22ms/step - loss: 0.5796 - accuracy: 0.6944 - val_loss: 0.5891 - val_accuracy: 0.7222\n",
            "Epoch 100/200\n",
            "3/3 [==============================] - 0s 19ms/step - loss: 0.5772 - accuracy: 0.6944 - val_loss: 0.5866 - val_accuracy: 0.7222\n",
            "Epoch 101/200\n",
            "3/3 [==============================] - 0s 18ms/step - loss: 0.5754 - accuracy: 0.7222 - val_loss: 0.5849 - val_accuracy: 0.7222\n",
            "Epoch 102/200\n",
            "3/3 [==============================] - 0s 19ms/step - loss: 0.5729 - accuracy: 0.7222 - val_loss: 0.5828 - val_accuracy: 0.7222\n",
            "Epoch 103/200\n",
            "3/3 [==============================] - 0s 18ms/step - loss: 0.5700 - accuracy: 0.7222 - val_loss: 0.5786 - val_accuracy: 0.7222\n",
            "Epoch 104/200\n",
            "3/3 [==============================] - 0s 18ms/step - loss: 0.5669 - accuracy: 0.7361 - val_loss: 0.5734 - val_accuracy: 0.7222\n",
            "Epoch 105/200\n",
            "3/3 [==============================] - 0s 26ms/step - loss: 0.5638 - accuracy: 0.7500 - val_loss: 0.5684 - val_accuracy: 0.8889\n",
            "Epoch 106/200\n",
            "3/3 [==============================] - 0s 20ms/step - loss: 0.5612 - accuracy: 0.7500 - val_loss: 0.5639 - val_accuracy: 0.8889\n",
            "Epoch 107/200\n",
            "3/3 [==============================] - 0s 27ms/step - loss: 0.5584 - accuracy: 0.7639 - val_loss: 0.5605 - val_accuracy: 0.8889\n",
            "Epoch 108/200\n",
            "3/3 [==============================] - 0s 28ms/step - loss: 0.5556 - accuracy: 0.7361 - val_loss: 0.5573 - val_accuracy: 0.8889\n",
            "Epoch 109/200\n",
            "3/3 [==============================] - 0s 19ms/step - loss: 0.5530 - accuracy: 0.7361 - val_loss: 0.5538 - val_accuracy: 0.8889\n",
            "Epoch 110/200\n",
            "3/3 [==============================] - 0s 18ms/step - loss: 0.5503 - accuracy: 0.7361 - val_loss: 0.5502 - val_accuracy: 0.8889\n",
            "Epoch 111/200\n",
            "3/3 [==============================] - 0s 21ms/step - loss: 0.5477 - accuracy: 0.7361 - val_loss: 0.5468 - val_accuracy: 0.8889\n",
            "Epoch 112/200\n",
            "3/3 [==============================] - 0s 19ms/step - loss: 0.5448 - accuracy: 0.7500 - val_loss: 0.5435 - val_accuracy: 0.8889\n",
            "Epoch 113/200\n",
            "3/3 [==============================] - 0s 20ms/step - loss: 0.5424 - accuracy: 0.7500 - val_loss: 0.5401 - val_accuracy: 0.8889\n",
            "Epoch 114/200\n",
            "3/3 [==============================] - 0s 19ms/step - loss: 0.5396 - accuracy: 0.7500 - val_loss: 0.5371 - val_accuracy: 0.8889\n",
            "Epoch 115/200\n",
            "3/3 [==============================] - 0s 19ms/step - loss: 0.5368 - accuracy: 0.7500 - val_loss: 0.5345 - val_accuracy: 0.8889\n",
            "Epoch 116/200\n",
            "3/3 [==============================] - 0s 24ms/step - loss: 0.5341 - accuracy: 0.7500 - val_loss: 0.5320 - val_accuracy: 0.8889\n",
            "Epoch 117/200\n",
            "3/3 [==============================] - 0s 20ms/step - loss: 0.5315 - accuracy: 0.7500 - val_loss: 0.5295 - val_accuracy: 0.8889\n",
            "Epoch 118/200\n",
            "3/3 [==============================] - 0s 27ms/step - loss: 0.5286 - accuracy: 0.7500 - val_loss: 0.5271 - val_accuracy: 0.8889\n",
            "Epoch 119/200\n",
            "3/3 [==============================] - 0s 28ms/step - loss: 0.5258 - accuracy: 0.7639 - val_loss: 0.5247 - val_accuracy: 0.8889\n",
            "Epoch 120/200\n",
            "3/3 [==============================] - 0s 19ms/step - loss: 0.5228 - accuracy: 0.7639 - val_loss: 0.5223 - val_accuracy: 0.8889\n",
            "Epoch 121/200\n",
            "3/3 [==============================] - 0s 20ms/step - loss: 0.5199 - accuracy: 0.7639 - val_loss: 0.5204 - val_accuracy: 0.8889\n",
            "Epoch 122/200\n",
            "3/3 [==============================] - 0s 23ms/step - loss: 0.5170 - accuracy: 0.7639 - val_loss: 0.5186 - val_accuracy: 0.8889\n",
            "Epoch 123/200\n",
            "3/3 [==============================] - 0s 18ms/step - loss: 0.5140 - accuracy: 0.7778 - val_loss: 0.5169 - val_accuracy: 0.8889\n",
            "Epoch 124/200\n",
            "3/3 [==============================] - 0s 27ms/step - loss: 0.5109 - accuracy: 0.7778 - val_loss: 0.5151 - val_accuracy: 0.8889\n",
            "Epoch 125/200\n",
            "3/3 [==============================] - 0s 18ms/step - loss: 0.5077 - accuracy: 0.7917 - val_loss: 0.5130 - val_accuracy: 0.8889\n",
            "Epoch 126/200\n",
            "3/3 [==============================] - 0s 23ms/step - loss: 0.5052 - accuracy: 0.7778 - val_loss: 0.5109 - val_accuracy: 0.8889\n",
            "Epoch 127/200\n",
            "3/3 [==============================] - 0s 19ms/step - loss: 0.5022 - accuracy: 0.7917 - val_loss: 0.5085 - val_accuracy: 0.8889\n",
            "Epoch 128/200\n",
            "3/3 [==============================] - 0s 27ms/step - loss: 0.4990 - accuracy: 0.8056 - val_loss: 0.5060 - val_accuracy: 0.8889\n",
            "Epoch 129/200\n",
            "3/3 [==============================] - 0s 18ms/step - loss: 0.4962 - accuracy: 0.8056 - val_loss: 0.5034 - val_accuracy: 0.8889\n",
            "Epoch 130/200\n",
            "3/3 [==============================] - 0s 18ms/step - loss: 0.4930 - accuracy: 0.8056 - val_loss: 0.5005 - val_accuracy: 0.8889\n",
            "Epoch 131/200\n",
            "3/3 [==============================] - 0s 20ms/step - loss: 0.4903 - accuracy: 0.8194 - val_loss: 0.4969 - val_accuracy: 0.8889\n",
            "Epoch 132/200\n",
            "3/3 [==============================] - 0s 20ms/step - loss: 0.4878 - accuracy: 0.8194 - val_loss: 0.4939 - val_accuracy: 0.8889\n",
            "Epoch 133/200\n",
            "3/3 [==============================] - 0s 19ms/step - loss: 0.4853 - accuracy: 0.8333 - val_loss: 0.4912 - val_accuracy: 0.8889\n",
            "Epoch 134/200\n",
            "3/3 [==============================] - 0s 18ms/step - loss: 0.4824 - accuracy: 0.8333 - val_loss: 0.4888 - val_accuracy: 0.8889\n",
            "Epoch 135/200\n",
            "3/3 [==============================] - 0s 27ms/step - loss: 0.4799 - accuracy: 0.8333 - val_loss: 0.4865 - val_accuracy: 0.8889\n",
            "Epoch 136/200\n",
            "3/3 [==============================] - 0s 18ms/step - loss: 0.4771 - accuracy: 0.8333 - val_loss: 0.4842 - val_accuracy: 0.8889\n",
            "Epoch 137/200\n",
            "3/3 [==============================] - 0s 29ms/step - loss: 0.4744 - accuracy: 0.8333 - val_loss: 0.4821 - val_accuracy: 0.8889\n",
            "Epoch 138/200\n",
            "3/3 [==============================] - 0s 19ms/step - loss: 0.4715 - accuracy: 0.8472 - val_loss: 0.4804 - val_accuracy: 0.8889\n",
            "Epoch 139/200\n",
            "3/3 [==============================] - 0s 19ms/step - loss: 0.4689 - accuracy: 0.8333 - val_loss: 0.4789 - val_accuracy: 0.8889\n",
            "Epoch 140/200\n",
            "3/3 [==============================] - 0s 18ms/step - loss: 0.4664 - accuracy: 0.8333 - val_loss: 0.4777 - val_accuracy: 0.8889\n",
            "Epoch 141/200\n",
            "3/3 [==============================] - 0s 17ms/step - loss: 0.4636 - accuracy: 0.8333 - val_loss: 0.4759 - val_accuracy: 0.8889\n",
            "Epoch 142/200\n",
            "3/3 [==============================] - 0s 20ms/step - loss: 0.4609 - accuracy: 0.8333 - val_loss: 0.4742 - val_accuracy: 0.8889\n",
            "Epoch 143/200\n",
            "3/3 [==============================] - 0s 23ms/step - loss: 0.4588 - accuracy: 0.8333 - val_loss: 0.4730 - val_accuracy: 0.8889\n",
            "Epoch 144/200\n",
            "3/3 [==============================] - 0s 19ms/step - loss: 0.4551 - accuracy: 0.8333 - val_loss: 0.4714 - val_accuracy: 0.8889\n",
            "Epoch 145/200\n",
            "3/3 [==============================] - 0s 20ms/step - loss: 0.4525 - accuracy: 0.8333 - val_loss: 0.4704 - val_accuracy: 0.8889\n",
            "Epoch 146/200\n",
            "3/3 [==============================] - 0s 20ms/step - loss: 0.4496 - accuracy: 0.8333 - val_loss: 0.4696 - val_accuracy: 0.8889\n",
            "Epoch 147/200\n",
            "3/3 [==============================] - 0s 20ms/step - loss: 0.4466 - accuracy: 0.8333 - val_loss: 0.4695 - val_accuracy: 0.8889\n",
            "Epoch 148/200\n",
            "3/3 [==============================] - 0s 19ms/step - loss: 0.4439 - accuracy: 0.8194 - val_loss: 0.4697 - val_accuracy: 0.8333\n",
            "Epoch 149/200\n",
            "3/3 [==============================] - 0s 19ms/step - loss: 0.4409 - accuracy: 0.8333 - val_loss: 0.4688 - val_accuracy: 0.8333\n",
            "Epoch 150/200\n",
            "3/3 [==============================] - 0s 20ms/step - loss: 0.4379 - accuracy: 0.8472 - val_loss: 0.4665 - val_accuracy: 0.8333\n",
            "Epoch 151/200\n",
            "3/3 [==============================] - 0s 27ms/step - loss: 0.4343 - accuracy: 0.8472 - val_loss: 0.4642 - val_accuracy: 0.8333\n",
            "Epoch 152/200\n",
            "3/3 [==============================] - 0s 20ms/step - loss: 0.4315 - accuracy: 0.8472 - val_loss: 0.4616 - val_accuracy: 0.8889\n",
            "Epoch 153/200\n",
            "3/3 [==============================] - 0s 20ms/step - loss: 0.4287 - accuracy: 0.8472 - val_loss: 0.4581 - val_accuracy: 0.8889\n",
            "Epoch 154/200\n",
            "3/3 [==============================] - 0s 23ms/step - loss: 0.4251 - accuracy: 0.8472 - val_loss: 0.4554 - val_accuracy: 0.8889\n",
            "Epoch 155/200\n",
            "3/3 [==============================] - 0s 27ms/step - loss: 0.4223 - accuracy: 0.8611 - val_loss: 0.4524 - val_accuracy: 0.8889\n",
            "Epoch 156/200\n",
            "3/3 [==============================] - 0s 20ms/step - loss: 0.4189 - accuracy: 0.8611 - val_loss: 0.4495 - val_accuracy: 0.8889\n",
            "Epoch 157/200\n",
            "3/3 [==============================] - 0s 20ms/step - loss: 0.4158 - accuracy: 0.8611 - val_loss: 0.4467 - val_accuracy: 0.8889\n",
            "Epoch 158/200\n",
            "3/3 [==============================] - 0s 19ms/step - loss: 0.4125 - accuracy: 0.8889 - val_loss: 0.4441 - val_accuracy: 0.8889\n",
            "Epoch 159/200\n",
            "3/3 [==============================] - 0s 18ms/step - loss: 0.4102 - accuracy: 0.9028 - val_loss: 0.4425 - val_accuracy: 0.8889\n",
            "Epoch 160/200\n",
            "3/3 [==============================] - 0s 19ms/step - loss: 0.4057 - accuracy: 0.9028 - val_loss: 0.4407 - val_accuracy: 0.8889\n",
            "Epoch 161/200\n",
            "3/3 [==============================] - 0s 18ms/step - loss: 0.4030 - accuracy: 0.8611 - val_loss: 0.4388 - val_accuracy: 0.8889\n",
            "Epoch 162/200\n",
            "3/3 [==============================] - 0s 18ms/step - loss: 0.3997 - accuracy: 0.8611 - val_loss: 0.4369 - val_accuracy: 0.8889\n",
            "Epoch 163/200\n",
            "3/3 [==============================] - 0s 22ms/step - loss: 0.3964 - accuracy: 0.8889 - val_loss: 0.4347 - val_accuracy: 0.8889\n",
            "Epoch 164/200\n",
            "3/3 [==============================] - 0s 21ms/step - loss: 0.3928 - accuracy: 0.8889 - val_loss: 0.4323 - val_accuracy: 0.8889\n",
            "Epoch 165/200\n",
            "3/3 [==============================] - 0s 19ms/step - loss: 0.3893 - accuracy: 0.8889 - val_loss: 0.4299 - val_accuracy: 0.8889\n",
            "Epoch 166/200\n",
            "3/3 [==============================] - 0s 20ms/step - loss: 0.3863 - accuracy: 0.9028 - val_loss: 0.4276 - val_accuracy: 0.8889\n",
            "Epoch 167/200\n",
            "3/3 [==============================] - 0s 20ms/step - loss: 0.3830 - accuracy: 0.9028 - val_loss: 0.4251 - val_accuracy: 0.8889\n",
            "Epoch 168/200\n",
            "3/3 [==============================] - 0s 19ms/step - loss: 0.3797 - accuracy: 0.8889 - val_loss: 0.4226 - val_accuracy: 0.8889\n",
            "Epoch 169/200\n",
            "3/3 [==============================] - 0s 20ms/step - loss: 0.3769 - accuracy: 0.9028 - val_loss: 0.4207 - val_accuracy: 0.8889\n",
            "Epoch 170/200\n",
            "3/3 [==============================] - 0s 19ms/step - loss: 0.3733 - accuracy: 0.9028 - val_loss: 0.4186 - val_accuracy: 0.8889\n",
            "Epoch 171/200\n",
            "3/3 [==============================] - 0s 28ms/step - loss: 0.3707 - accuracy: 0.9028 - val_loss: 0.4162 - val_accuracy: 0.8889\n",
            "Epoch 172/200\n",
            "3/3 [==============================] - 0s 28ms/step - loss: 0.3683 - accuracy: 0.9028 - val_loss: 0.4137 - val_accuracy: 0.8889\n",
            "Epoch 173/200\n",
            "3/3 [==============================] - 0s 31ms/step - loss: 0.3655 - accuracy: 0.9028 - val_loss: 0.4107 - val_accuracy: 0.8889\n",
            "Epoch 174/200\n",
            "3/3 [==============================] - 0s 28ms/step - loss: 0.3629 - accuracy: 0.9028 - val_loss: 0.4082 - val_accuracy: 0.8889\n",
            "Epoch 175/200\n",
            "3/3 [==============================] - 0s 33ms/step - loss: 0.3604 - accuracy: 0.9028 - val_loss: 0.4059 - val_accuracy: 0.8889\n",
            "Epoch 176/200\n",
            "3/3 [==============================] - 0s 33ms/step - loss: 0.3576 - accuracy: 0.9028 - val_loss: 0.4042 - val_accuracy: 0.8889\n",
            "Epoch 177/200\n",
            "3/3 [==============================] - 0s 35ms/step - loss: 0.3549 - accuracy: 0.9028 - val_loss: 0.4029 - val_accuracy: 0.8889\n",
            "Epoch 178/200\n",
            "3/3 [==============================] - 0s 26ms/step - loss: 0.3525 - accuracy: 0.9028 - val_loss: 0.4017 - val_accuracy: 0.8889\n",
            "Epoch 179/200\n",
            "3/3 [==============================] - 0s 40ms/step - loss: 0.3509 - accuracy: 0.8889 - val_loss: 0.4005 - val_accuracy: 0.8889\n",
            "Epoch 180/200\n",
            "3/3 [==============================] - 0s 29ms/step - loss: 0.3494 - accuracy: 0.8750 - val_loss: 0.3991 - val_accuracy: 0.8889\n",
            "Epoch 181/200\n",
            "3/3 [==============================] - 0s 33ms/step - loss: 0.3465 - accuracy: 0.8750 - val_loss: 0.3962 - val_accuracy: 0.8889\n",
            "Epoch 182/200\n",
            "3/3 [==============================] - 0s 34ms/step - loss: 0.3437 - accuracy: 0.8889 - val_loss: 0.3926 - val_accuracy: 0.8889\n",
            "Epoch 183/200\n",
            "3/3 [==============================] - 0s 43ms/step - loss: 0.3412 - accuracy: 0.8889 - val_loss: 0.3894 - val_accuracy: 0.8889\n",
            "Epoch 184/200\n",
            "3/3 [==============================] - 0s 33ms/step - loss: 0.3404 - accuracy: 0.8889 - val_loss: 0.3862 - val_accuracy: 0.8889\n",
            "Epoch 185/200\n",
            "3/3 [==============================] - 0s 39ms/step - loss: 0.3375 - accuracy: 0.9028 - val_loss: 0.3833 - val_accuracy: 0.8889\n",
            "Epoch 186/200\n",
            "3/3 [==============================] - 0s 36ms/step - loss: 0.3355 - accuracy: 0.9028 - val_loss: 0.3803 - val_accuracy: 0.8889\n",
            "Epoch 187/200\n",
            "3/3 [==============================] - 0s 36ms/step - loss: 0.3334 - accuracy: 0.9028 - val_loss: 0.3780 - val_accuracy: 0.8889\n",
            "Epoch 188/200\n",
            "3/3 [==============================] - 0s 33ms/step - loss: 0.3316 - accuracy: 0.9028 - val_loss: 0.3763 - val_accuracy: 0.8889\n",
            "Epoch 189/200\n",
            "3/3 [==============================] - 0s 39ms/step - loss: 0.3299 - accuracy: 0.9028 - val_loss: 0.3741 - val_accuracy: 0.8889\n",
            "Epoch 190/200\n",
            "3/3 [==============================] - 0s 38ms/step - loss: 0.3284 - accuracy: 0.9028 - val_loss: 0.3718 - val_accuracy: 0.8889\n",
            "Epoch 191/200\n",
            "3/3 [==============================] - 0s 34ms/step - loss: 0.3263 - accuracy: 0.9028 - val_loss: 0.3708 - val_accuracy: 0.8889\n",
            "Epoch 192/200\n",
            "3/3 [==============================] - 0s 34ms/step - loss: 0.3248 - accuracy: 0.9028 - val_loss: 0.3696 - val_accuracy: 0.8889\n",
            "Epoch 193/200\n",
            "3/3 [==============================] - 0s 34ms/step - loss: 0.3235 - accuracy: 0.8889 - val_loss: 0.3692 - val_accuracy: 0.8889\n",
            "Epoch 194/200\n",
            "3/3 [==============================] - 0s 35ms/step - loss: 0.3224 - accuracy: 0.8750 - val_loss: 0.3689 - val_accuracy: 0.8889\n",
            "Epoch 195/200\n",
            "3/3 [==============================] - 0s 35ms/step - loss: 0.3211 - accuracy: 0.8750 - val_loss: 0.3680 - val_accuracy: 0.8889\n",
            "Epoch 196/200\n",
            "3/3 [==============================] - 0s 34ms/step - loss: 0.3196 - accuracy: 0.8750 - val_loss: 0.3671 - val_accuracy: 0.8889\n",
            "Epoch 197/200\n",
            "3/3 [==============================] - 0s 37ms/step - loss: 0.3180 - accuracy: 0.8750 - val_loss: 0.3658 - val_accuracy: 0.8889\n",
            "Epoch 198/200\n",
            "3/3 [==============================] - 0s 26ms/step - loss: 0.3169 - accuracy: 0.8750 - val_loss: 0.3645 - val_accuracy: 0.8889\n",
            "Epoch 199/200\n",
            "3/3 [==============================] - 0s 43ms/step - loss: 0.3156 - accuracy: 0.8750 - val_loss: 0.3632 - val_accuracy: 0.8889\n",
            "Epoch 200/200\n",
            "3/3 [==============================] - 0s 35ms/step - loss: 0.3145 - accuracy: 0.8611 - val_loss: 0.3610 - val_accuracy: 0.8889\n"
          ]
        }
      ]
    },
    {
      "cell_type": "code",
      "source": [
        "y_cap=model.predict(x_testf)"
      ],
      "metadata": {
        "colab": {
          "base_uri": "https://localhost:8080/"
        },
        "id": "3Sk2f4wtPA75",
        "outputId": "f2fd7162-f949-4053-a309-4d39c8ac6a6d"
      },
      "execution_count": 52,
      "outputs": [
        {
          "output_type": "stream",
          "name": "stdout",
          "text": [
            "1/1 [==============================] - 0s 25ms/step\n"
          ]
        }
      ]
    },
    {
      "cell_type": "code",
      "source": [
        "y_capf=np.where(y_cap>0.5,1,0)"
      ],
      "metadata": {
        "id": "hqejF9VJPGW6"
      },
      "execution_count": 53,
      "outputs": []
    },
    {
      "cell_type": "code",
      "source": [
        "from sklearn.metrics import accuracy_score\n",
        "accuracy_score(y_test,y_capf)"
      ],
      "metadata": {
        "colab": {
          "base_uri": "https://localhost:8080/"
        },
        "id": "k3PW6JQGPJ2W",
        "outputId": "35c865ea-5955-47eb-d13b-ba7959262d8b"
      },
      "execution_count": 54,
      "outputs": [
        {
          "output_type": "execute_result",
          "data": {
            "text/plain": [
              "1.0"
            ]
          },
          "metadata": {},
          "execution_count": 54
        }
      ]
    },
    {
      "cell_type": "code",
      "source": [
        "plt.plot(history.history[\"loss\"])\n",
        "plt.plot(history.history[\"val_loss\"])"
      ],
      "metadata": {
        "colab": {
          "base_uri": "https://localhost:8080/",
          "height": 447
        },
        "id": "wcyx05R0PL4k",
        "outputId": "5258564d-ae5e-4ef1-bb8a-2373415fccf7"
      },
      "execution_count": 55,
      "outputs": [
        {
          "output_type": "execute_result",
          "data": {
            "text/plain": [
              "[<matplotlib.lines.Line2D at 0x7f0d3c331960>]"
            ]
          },
          "metadata": {},
          "execution_count": 55
        },
        {
          "output_type": "display_data",
          "data": {
            "text/plain": [
              "<Figure size 640x480 with 1 Axes>"
            ],
            "image/png": "[encoded data removed]"
          },
          "metadata": {}
        }
      ]
    },
    {
      "cell_type": "code",
      "source": [
        "from mlxtend.plotting import plot_decision_regions"
      ],
      "metadata": {
        "id": "bs05LPuoPOxN"
      },
      "execution_count": 56,
      "outputs": []
    },
    {
      "cell_type": "code",
      "source": [
        "plot_decision_regions(x_trainf,y_train.values.astype(int),clf=model);"
      ],
      "metadata": {
        "colab": {
          "base_uri": "https://localhost:8080/",
          "height": 450
        },
        "id": "Kr4Ld40wPTPO",
        "outputId": "dc6ce517-69c6-4bba-a6cb-988c4bdc419e"
      },
      "execution_count": 57,
      "outputs": [
        {
          "output_type": "stream",
          "name": "stdout",
          "text": [
            "9600/9600 [==============================] - 14s 1ms/step\n"
          ]
        },
        {
          "output_type": "display_data",
          "data": {
            "text/plain": [
              "<Figure size 640x480 with 1 Axes>"
            ],
            "image/png": "[encoded data removed]"
          },
          "metadata": {}
        }
      ]
    },
    {
      "cell_type": "code",
      "source": [
        "y_capf"
      ],
      "metadata": {
        "id": "BLvhkl-DPVu2",
        "colab": {
          "base_uri": "https://localhost:8080/"
        },
        "outputId": "cefec836-2a58-4c2f-b32f-06b8e526419b"
      },
      "execution_count": 58,
      "outputs": [
        {
          "output_type": "execute_result",
          "data": {
            "text/plain": [
              "array([[0],\n",
              "       [0],\n",
              "       [1],\n",
              "       [1],\n",
              "       [1],\n",
              "       [1],\n",
              "       [0],\n",
              "       [1],\n",
              "       [0],\n",
              "       [0]])"
            ]
          },
          "metadata": {},
          "execution_count": 58
        }
      ]
    },
    {
      "cell_type": "code",
      "source": [
        "plot_decision_regions(x_testf,y_test.values.astype(int),clf=model)"
      ],
      "metadata": {
        "id": "BwbzJQhfPrko",
        "colab": {
          "base_uri": "https://localhost:8080/",
          "height": 465
        },
        "outputId": "3863a940-afdf-4709-dfd9-f1aef8d5410c"
      },
      "execution_count": 59,
      "outputs": [
        {
          "output_type": "stream",
          "name": "stdout",
          "text": [
            "9600/9600 [==============================] - 14s 1ms/step\n"
          ]
        },
        {
          "output_type": "execute_result",
          "data": {
            "text/plain": [
              "<Axes: >"
            ]
          },
          "metadata": {},
          "execution_count": 59
        },
        {
          "output_type": "display_data",
          "data": {
            "text/plain": [
              "<Figure size 640x480 with 1 Axes>"
            ],
            "image/png": "[encoded data removed]"
          },
          "metadata": {}
        }
      ]
    },
    {
      "cell_type": "code",
      "source": [
        "x_testf[[0,1]]"
      ],
      "metadata": {
        "colab": {
          "base_uri": "https://localhost:8080/"
        },
        "id": "GMHAuc1SPuZ_",
        "outputId": "dd7aecba-4ffa-43f7-e706-7e8dd42360c7"
      },
      "execution_count": 60,
      "outputs": [
        {
          "output_type": "execute_result",
          "data": {
            "text/plain": [
              "array([[ 1.54530176,  1.22773848],\n",
              "       [-1.5321291 ,  1.22168013]])"
            ]
          },
          "metadata": {},
          "execution_count": 60
        }
      ]
    },
    {
      "cell_type": "code",
      "source": [
        "plot_decision_regions(df[[0,1]].values,df[2].values.astype(int),clf=model)"
      ],
      "metadata": {
        "id": "VIltNWmEQO2e",
        "colab": {
          "base_uri": "https://localhost:8080/",
          "height": 465
        },
        "outputId": "6e822e46-b4ef-4e55-85a0-e5f37417cb49"
      },
      "execution_count": 61,
      "outputs": [
        {
          "output_type": "stream",
          "name": "stdout",
          "text": [
            "9600/9600 [==============================] - 14s 1ms/step\n"
          ]
        },
        {
          "output_type": "execute_result",
          "data": {
            "text/plain": [
              "<Axes: >"
            ]
          },
          "metadata": {},
          "execution_count": 61
        },
        {
          "output_type": "display_data",
          "data": {
            "text/plain": [
              "<Figure size 640x480 with 1 Axes>"
            ],
            "image/png": "[encoded data removed]"
          },
          "metadata": {}
        }
      ]
    },
    {
      "cell_type": "code",
      "source": [],
      "metadata": {
        "id": "IdgLRS0FQr5p"
      },
      "execution_count": null,
      "outputs": []
    }
  ]
}